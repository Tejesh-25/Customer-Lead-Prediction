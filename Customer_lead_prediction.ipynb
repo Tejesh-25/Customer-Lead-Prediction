{
  "nbformat": 4,
  "nbformat_minor": 0,
  "metadata": {
    "colab": {
      "provenance": [],
      "authorship_tag": "ABX9TyPYQoFpE75QgWyBvh7/qXcw",
      "include_colab_link": true
    },
    "kernelspec": {
      "name": "python3",
      "display_name": "Python 3"
    },
    "language_info": {
      "name": "python"
    }
  },
  "cells": [
    {
      "cell_type": "markdown",
      "metadata": {
        "id": "view-in-github",
        "colab_type": "text"
      },
      "source": [
        "<a href=\"https://colab.research.google.com/github/Tejesh-25/Customer-Lead-Prediction/blob/Machine_Learning/Customer_lead_prediction.ipynb\" target=\"_parent\"><img src=\"https://colab.research.google.com/assets/colab-badge.svg\" alt=\"Open In Colab\"/></a>"
      ]
    },
    {
      "cell_type": "markdown",
      "source": [
        "**Problem Statement**\n",
        "\n",
        "The online Edu-Tech platform that generates leads through various sources. The marketing and sales teams want to optimize their lead conversion rates and improve the efficiency of their lead management process. The primary goal is to predict whether a lead will be successfully converted into a customer or\n",
        "not. This prediction can help the Edu-Tech company to prioritize leads with the highest conversion potential and tailor marketing and sales strategies accordingly. The analysis and prediction will be based on the information available in the provided dataset."
      ],
      "metadata": {
        "id": "1NuAbR_Icy6w"
      }
    },
    {
      "cell_type": "markdown",
      "source": [
        "**Tools Used**"
      ],
      "metadata": {
        "id": "uklrAnoadEve"
      }
    },
    {
      "cell_type": "code",
      "execution_count": null,
      "metadata": {
        "id": "VPW30zroaLTN"
      },
      "outputs": [],
      "source": [
        "import pandas as pd\n",
        "import matplotlib.pyplot as plt\n",
        "import seaborn as sns\n",
        "import warnings\n",
        "warnings.filterwarnings(\"ignore\")\n",
        "import sklearn\n",
        "from sklearn.model_selection import train_test_split\n",
        "from sklearn.linear_model import LogisticRegression\n",
        "from sklearn.metrics import accuracy_score,confusion_matrix,precision_score,recall_score\n",
        "from sklearn.tree import DecisionTreeClassifier as dtc\n",
        "from sklearn.ensemble import RandomForestClassifier as rfc"
      ]
    },
    {
      "cell_type": "markdown",
      "source": [
        "**Approaches**"
      ],
      "metadata": {
        "id": "IWmfgtzTmNwA"
      }
    },
    {
      "cell_type": "code",
      "source": [
        "df=pd.read_csv(\"/content/Leads.csv\")"
      ],
      "metadata": {
        "id": "WKQyJI9slire"
      },
      "execution_count": null,
      "outputs": []
    },
    {
      "cell_type": "code",
      "source": [
        "df.head()"
      ],
      "metadata": {
        "colab": {
          "base_uri": "https://localhost:8080/",
          "height": 585
        },
        "id": "0QFVhW2GmJh1",
        "outputId": "881b66ce-95f3-4310-8e22-7e3543c19c5b"
      },
      "execution_count": null,
      "outputs": [
        {
          "output_type": "execute_result",
          "data": {
            "text/plain": [
              "                            Prospect ID  Lead Number              Lead Origin  \\\n",
              "0  7927b2df-8bba-4d29-b9a2-b6e0beafe620       660737                      API   \n",
              "1  2a272436-5132-4136-86fa-dcc88c88f482       660728                      API   \n",
              "2  8cc8c611-a219-4f35-ad23-fdfd2656bd8a       660727  Landing Page Submission   \n",
              "3  0cc2df48-7cf4-4e39-9de9-19797f9b38cc       660719  Landing Page Submission   \n",
              "4  3256f628-e534-4826-9d63-4a8b88782852       660681  Landing Page Submission   \n",
              "\n",
              "      Lead Source Do Not Email Do Not Call  Converted  TotalVisits  \\\n",
              "0      Olark Chat           No          No          0          0.0   \n",
              "1  Organic Search           No          No          0          5.0   \n",
              "2  Direct Traffic           No          No          1          2.0   \n",
              "3  Direct Traffic           No          No          0          1.0   \n",
              "4          Google           No          No          1          2.0   \n",
              "\n",
              "   Total Time Spent on Website  Page Views Per Visit  ...  \\\n",
              "0                            0                   0.0  ...   \n",
              "1                          674                   2.5  ...   \n",
              "2                         1532                   2.0  ...   \n",
              "3                          305                   1.0  ...   \n",
              "4                         1428                   1.0  ...   \n",
              "\n",
              "  Get updates on DM Content    Lead Profile    City  \\\n",
              "0                        No          Select  Select   \n",
              "1                        No          Select  Select   \n",
              "2                        No  Potential Lead  Mumbai   \n",
              "3                        No          Select  Mumbai   \n",
              "4                        No          Select  Mumbai   \n",
              "\n",
              "  Asymmetrique Activity Index Asymmetrique Profile Index  \\\n",
              "0                   02.Medium                  02.Medium   \n",
              "1                   02.Medium                  02.Medium   \n",
              "2                   02.Medium                    01.High   \n",
              "3                   02.Medium                    01.High   \n",
              "4                   02.Medium                    01.High   \n",
              "\n",
              "  Asymmetrique Activity Score Asymmetrique Profile Score  \\\n",
              "0                        15.0                       15.0   \n",
              "1                        15.0                       15.0   \n",
              "2                        14.0                       20.0   \n",
              "3                        13.0                       17.0   \n",
              "4                        15.0                       18.0   \n",
              "\n",
              "  I agree to pay the amount through cheque  \\\n",
              "0                                       No   \n",
              "1                                       No   \n",
              "2                                       No   \n",
              "3                                       No   \n",
              "4                                       No   \n",
              "\n",
              "  A free copy of Mastering The Interview Last Notable Activity  \n",
              "0                                     No              Modified  \n",
              "1                                     No          Email Opened  \n",
              "2                                    Yes          Email Opened  \n",
              "3                                     No              Modified  \n",
              "4                                     No              Modified  \n",
              "\n",
              "[5 rows x 37 columns]"
            ],
            "text/html": [
              "\n",
              "  <div id=\"df-bbea8091-acdd-497e-8f90-cb4355222fee\" class=\"colab-df-container\">\n",
              "    <div>\n",
              "<style scoped>\n",
              "    .dataframe tbody tr th:only-of-type {\n",
              "        vertical-align: middle;\n",
              "    }\n",
              "\n",
              "    .dataframe tbody tr th {\n",
              "        vertical-align: top;\n",
              "    }\n",
              "\n",
              "    .dataframe thead th {\n",
              "        text-align: right;\n",
              "    }\n",
              "</style>\n",
              "<table border=\"1\" class=\"dataframe\">\n",
              "  <thead>\n",
              "    <tr style=\"text-align: right;\">\n",
              "      <th></th>\n",
              "      <th>Prospect ID</th>\n",
              "      <th>Lead Number</th>\n",
              "      <th>Lead Origin</th>\n",
              "      <th>Lead Source</th>\n",
              "      <th>Do Not Email</th>\n",
              "      <th>Do Not Call</th>\n",
              "      <th>Converted</th>\n",
              "      <th>TotalVisits</th>\n",
              "      <th>Total Time Spent on Website</th>\n",
              "      <th>Page Views Per Visit</th>\n",
              "      <th>...</th>\n",
              "      <th>Get updates on DM Content</th>\n",
              "      <th>Lead Profile</th>\n",
              "      <th>City</th>\n",
              "      <th>Asymmetrique Activity Index</th>\n",
              "      <th>Asymmetrique Profile Index</th>\n",
              "      <th>Asymmetrique Activity Score</th>\n",
              "      <th>Asymmetrique Profile Score</th>\n",
              "      <th>I agree to pay the amount through cheque</th>\n",
              "      <th>A free copy of Mastering The Interview</th>\n",
              "      <th>Last Notable Activity</th>\n",
              "    </tr>\n",
              "  </thead>\n",
              "  <tbody>\n",
              "    <tr>\n",
              "      <th>0</th>\n",
              "      <td>7927b2df-8bba-4d29-b9a2-b6e0beafe620</td>\n",
              "      <td>660737</td>\n",
              "      <td>API</td>\n",
              "      <td>Olark Chat</td>\n",
              "      <td>No</td>\n",
              "      <td>No</td>\n",
              "      <td>0</td>\n",
              "      <td>0.0</td>\n",
              "      <td>0</td>\n",
              "      <td>0.0</td>\n",
              "      <td>...</td>\n",
              "      <td>No</td>\n",
              "      <td>Select</td>\n",
              "      <td>Select</td>\n",
              "      <td>02.Medium</td>\n",
              "      <td>02.Medium</td>\n",
              "      <td>15.0</td>\n",
              "      <td>15.0</td>\n",
              "      <td>No</td>\n",
              "      <td>No</td>\n",
              "      <td>Modified</td>\n",
              "    </tr>\n",
              "    <tr>\n",
              "      <th>1</th>\n",
              "      <td>2a272436-5132-4136-86fa-dcc88c88f482</td>\n",
              "      <td>660728</td>\n",
              "      <td>API</td>\n",
              "      <td>Organic Search</td>\n",
              "      <td>No</td>\n",
              "      <td>No</td>\n",
              "      <td>0</td>\n",
              "      <td>5.0</td>\n",
              "      <td>674</td>\n",
              "      <td>2.5</td>\n",
              "      <td>...</td>\n",
              "      <td>No</td>\n",
              "      <td>Select</td>\n",
              "      <td>Select</td>\n",
              "      <td>02.Medium</td>\n",
              "      <td>02.Medium</td>\n",
              "      <td>15.0</td>\n",
              "      <td>15.0</td>\n",
              "      <td>No</td>\n",
              "      <td>No</td>\n",
              "      <td>Email Opened</td>\n",
              "    </tr>\n",
              "    <tr>\n",
              "      <th>2</th>\n",
              "      <td>8cc8c611-a219-4f35-ad23-fdfd2656bd8a</td>\n",
              "      <td>660727</td>\n",
              "      <td>Landing Page Submission</td>\n",
              "      <td>Direct Traffic</td>\n",
              "      <td>No</td>\n",
              "      <td>No</td>\n",
              "      <td>1</td>\n",
              "      <td>2.0</td>\n",
              "      <td>1532</td>\n",
              "      <td>2.0</td>\n",
              "      <td>...</td>\n",
              "      <td>No</td>\n",
              "      <td>Potential Lead</td>\n",
              "      <td>Mumbai</td>\n",
              "      <td>02.Medium</td>\n",
              "      <td>01.High</td>\n",
              "      <td>14.0</td>\n",
              "      <td>20.0</td>\n",
              "      <td>No</td>\n",
              "      <td>Yes</td>\n",
              "      <td>Email Opened</td>\n",
              "    </tr>\n",
              "    <tr>\n",
              "      <th>3</th>\n",
              "      <td>0cc2df48-7cf4-4e39-9de9-19797f9b38cc</td>\n",
              "      <td>660719</td>\n",
              "      <td>Landing Page Submission</td>\n",
              "      <td>Direct Traffic</td>\n",
              "      <td>No</td>\n",
              "      <td>No</td>\n",
              "      <td>0</td>\n",
              "      <td>1.0</td>\n",
              "      <td>305</td>\n",
              "      <td>1.0</td>\n",
              "      <td>...</td>\n",
              "      <td>No</td>\n",
              "      <td>Select</td>\n",
              "      <td>Mumbai</td>\n",
              "      <td>02.Medium</td>\n",
              "      <td>01.High</td>\n",
              "      <td>13.0</td>\n",
              "      <td>17.0</td>\n",
              "      <td>No</td>\n",
              "      <td>No</td>\n",
              "      <td>Modified</td>\n",
              "    </tr>\n",
              "    <tr>\n",
              "      <th>4</th>\n",
              "      <td>3256f628-e534-4826-9d63-4a8b88782852</td>\n",
              "      <td>660681</td>\n",
              "      <td>Landing Page Submission</td>\n",
              "      <td>Google</td>\n",
              "      <td>No</td>\n",
              "      <td>No</td>\n",
              "      <td>1</td>\n",
              "      <td>2.0</td>\n",
              "      <td>1428</td>\n",
              "      <td>1.0</td>\n",
              "      <td>...</td>\n",
              "      <td>No</td>\n",
              "      <td>Select</td>\n",
              "      <td>Mumbai</td>\n",
              "      <td>02.Medium</td>\n",
              "      <td>01.High</td>\n",
              "      <td>15.0</td>\n",
              "      <td>18.0</td>\n",
              "      <td>No</td>\n",
              "      <td>No</td>\n",
              "      <td>Modified</td>\n",
              "    </tr>\n",
              "  </tbody>\n",
              "</table>\n",
              "<p>5 rows × 37 columns</p>\n",
              "</div>\n",
              "    <div class=\"colab-df-buttons\">\n",
              "\n",
              "  <div class=\"colab-df-container\">\n",
              "    <button class=\"colab-df-convert\" onclick=\"convertToInteractive('df-bbea8091-acdd-497e-8f90-cb4355222fee')\"\n",
              "            title=\"Convert this dataframe to an interactive table.\"\n",
              "            style=\"display:none;\">\n",
              "\n",
              "  <svg xmlns=\"http://www.w3.org/2000/svg\" height=\"24px\" viewBox=\"0 -960 960 960\">\n",
              "    <path d=\"M120-120v-720h720v720H120Zm60-500h600v-160H180v160Zm220 220h160v-160H400v160Zm0 220h160v-160H400v160ZM180-400h160v-160H180v160Zm440 0h160v-160H620v160ZM180-180h160v-160H180v160Zm440 0h160v-160H620v160Z\"/>\n",
              "  </svg>\n",
              "    </button>\n",
              "\n",
              "  <style>\n",
              "    .colab-df-container {\n",
              "      display:flex;\n",
              "      gap: 12px;\n",
              "    }\n",
              "\n",
              "    .colab-df-convert {\n",
              "      background-color: #E8F0FE;\n",
              "      border: none;\n",
              "      border-radius: 50%;\n",
              "      cursor: pointer;\n",
              "      display: none;\n",
              "      fill: #1967D2;\n",
              "      height: 32px;\n",
              "      padding: 0 0 0 0;\n",
              "      width: 32px;\n",
              "    }\n",
              "\n",
              "    .colab-df-convert:hover {\n",
              "      background-color: #E2EBFA;\n",
              "      box-shadow: 0px 1px 2px rgba(60, 64, 67, 0.3), 0px 1px 3px 1px rgba(60, 64, 67, 0.15);\n",
              "      fill: #174EA6;\n",
              "    }\n",
              "\n",
              "    .colab-df-buttons div {\n",
              "      margin-bottom: 4px;\n",
              "    }\n",
              "\n",
              "    [theme=dark] .colab-df-convert {\n",
              "      background-color: #3B4455;\n",
              "      fill: #D2E3FC;\n",
              "    }\n",
              "\n",
              "    [theme=dark] .colab-df-convert:hover {\n",
              "      background-color: #434B5C;\n",
              "      box-shadow: 0px 1px 3px 1px rgba(0, 0, 0, 0.15);\n",
              "      filter: drop-shadow(0px 1px 2px rgba(0, 0, 0, 0.3));\n",
              "      fill: #FFFFFF;\n",
              "    }\n",
              "  </style>\n",
              "\n",
              "    <script>\n",
              "      const buttonEl =\n",
              "        document.querySelector('#df-bbea8091-acdd-497e-8f90-cb4355222fee button.colab-df-convert');\n",
              "      buttonEl.style.display =\n",
              "        google.colab.kernel.accessAllowed ? 'block' : 'none';\n",
              "\n",
              "      async function convertToInteractive(key) {\n",
              "        const element = document.querySelector('#df-bbea8091-acdd-497e-8f90-cb4355222fee');\n",
              "        const dataTable =\n",
              "          await google.colab.kernel.invokeFunction('convertToInteractive',\n",
              "                                                    [key], {});\n",
              "        if (!dataTable) return;\n",
              "\n",
              "        const docLinkHtml = 'Like what you see? Visit the ' +\n",
              "          '<a target=\"_blank\" href=https://colab.research.google.com/notebooks/data_table.ipynb>data table notebook</a>'\n",
              "          + ' to learn more about interactive tables.';\n",
              "        element.innerHTML = '';\n",
              "        dataTable['output_type'] = 'display_data';\n",
              "        await google.colab.output.renderOutput(dataTable, element);\n",
              "        const docLink = document.createElement('div');\n",
              "        docLink.innerHTML = docLinkHtml;\n",
              "        element.appendChild(docLink);\n",
              "      }\n",
              "    </script>\n",
              "  </div>\n",
              "\n",
              "\n",
              "<div id=\"df-3e931614-c328-4dd9-be47-1f41f62c767a\">\n",
              "  <button class=\"colab-df-quickchart\" onclick=\"quickchart('df-3e931614-c328-4dd9-be47-1f41f62c767a')\"\n",
              "            title=\"Suggest charts.\"\n",
              "            style=\"display:none;\">\n",
              "\n",
              "<svg xmlns=\"http://www.w3.org/2000/svg\" height=\"24px\"viewBox=\"0 0 24 24\"\n",
              "     width=\"24px\">\n",
              "    <g>\n",
              "        <path d=\"M19 3H5c-1.1 0-2 .9-2 2v14c0 1.1.9 2 2 2h14c1.1 0 2-.9 2-2V5c0-1.1-.9-2-2-2zM9 17H7v-7h2v7zm4 0h-2V7h2v10zm4 0h-2v-4h2v4z\"/>\n",
              "    </g>\n",
              "</svg>\n",
              "  </button>\n",
              "\n",
              "<style>\n",
              "  .colab-df-quickchart {\n",
              "      --bg-color: #E8F0FE;\n",
              "      --fill-color: #1967D2;\n",
              "      --hover-bg-color: #E2EBFA;\n",
              "      --hover-fill-color: #174EA6;\n",
              "      --disabled-fill-color: #AAA;\n",
              "      --disabled-bg-color: #DDD;\n",
              "  }\n",
              "\n",
              "  [theme=dark] .colab-df-quickchart {\n",
              "      --bg-color: #3B4455;\n",
              "      --fill-color: #D2E3FC;\n",
              "      --hover-bg-color: #434B5C;\n",
              "      --hover-fill-color: #FFFFFF;\n",
              "      --disabled-bg-color: #3B4455;\n",
              "      --disabled-fill-color: #666;\n",
              "  }\n",
              "\n",
              "  .colab-df-quickchart {\n",
              "    background-color: var(--bg-color);\n",
              "    border: none;\n",
              "    border-radius: 50%;\n",
              "    cursor: pointer;\n",
              "    display: none;\n",
              "    fill: var(--fill-color);\n",
              "    height: 32px;\n",
              "    padding: 0;\n",
              "    width: 32px;\n",
              "  }\n",
              "\n",
              "  .colab-df-quickchart:hover {\n",
              "    background-color: var(--hover-bg-color);\n",
              "    box-shadow: 0 1px 2px rgba(60, 64, 67, 0.3), 0 1px 3px 1px rgba(60, 64, 67, 0.15);\n",
              "    fill: var(--button-hover-fill-color);\n",
              "  }\n",
              "\n",
              "  .colab-df-quickchart-complete:disabled,\n",
              "  .colab-df-quickchart-complete:disabled:hover {\n",
              "    background-color: var(--disabled-bg-color);\n",
              "    fill: var(--disabled-fill-color);\n",
              "    box-shadow: none;\n",
              "  }\n",
              "\n",
              "  .colab-df-spinner {\n",
              "    border: 2px solid var(--fill-color);\n",
              "    border-color: transparent;\n",
              "    border-bottom-color: var(--fill-color);\n",
              "    animation:\n",
              "      spin 1s steps(1) infinite;\n",
              "  }\n",
              "\n",
              "  @keyframes spin {\n",
              "    0% {\n",
              "      border-color: transparent;\n",
              "      border-bottom-color: var(--fill-color);\n",
              "      border-left-color: var(--fill-color);\n",
              "    }\n",
              "    20% {\n",
              "      border-color: transparent;\n",
              "      border-left-color: var(--fill-color);\n",
              "      border-top-color: var(--fill-color);\n",
              "    }\n",
              "    30% {\n",
              "      border-color: transparent;\n",
              "      border-left-color: var(--fill-color);\n",
              "      border-top-color: var(--fill-color);\n",
              "      border-right-color: var(--fill-color);\n",
              "    }\n",
              "    40% {\n",
              "      border-color: transparent;\n",
              "      border-right-color: var(--fill-color);\n",
              "      border-top-color: var(--fill-color);\n",
              "    }\n",
              "    60% {\n",
              "      border-color: transparent;\n",
              "      border-right-color: var(--fill-color);\n",
              "    }\n",
              "    80% {\n",
              "      border-color: transparent;\n",
              "      border-right-color: var(--fill-color);\n",
              "      border-bottom-color: var(--fill-color);\n",
              "    }\n",
              "    90% {\n",
              "      border-color: transparent;\n",
              "      border-bottom-color: var(--fill-color);\n",
              "    }\n",
              "  }\n",
              "</style>\n",
              "\n",
              "  <script>\n",
              "    async function quickchart(key) {\n",
              "      const quickchartButtonEl =\n",
              "        document.querySelector('#' + key + ' button');\n",
              "      quickchartButtonEl.disabled = true;  // To prevent multiple clicks.\n",
              "      quickchartButtonEl.classList.add('colab-df-spinner');\n",
              "      try {\n",
              "        const charts = await google.colab.kernel.invokeFunction(\n",
              "            'suggestCharts', [key], {});\n",
              "      } catch (error) {\n",
              "        console.error('Error during call to suggestCharts:', error);\n",
              "      }\n",
              "      quickchartButtonEl.classList.remove('colab-df-spinner');\n",
              "      quickchartButtonEl.classList.add('colab-df-quickchart-complete');\n",
              "    }\n",
              "    (() => {\n",
              "      let quickchartButtonEl =\n",
              "        document.querySelector('#df-3e931614-c328-4dd9-be47-1f41f62c767a button');\n",
              "      quickchartButtonEl.style.display =\n",
              "        google.colab.kernel.accessAllowed ? 'block' : 'none';\n",
              "    })();\n",
              "  </script>\n",
              "</div>\n",
              "    </div>\n",
              "  </div>\n"
            ]
          },
          "metadata": {},
          "execution_count": 3
        }
      ]
    },
    {
      "cell_type": "code",
      "source": [
        "df.info()"
      ],
      "metadata": {
        "colab": {
          "base_uri": "https://localhost:8080/"
        },
        "id": "vfokZZe-lpSW",
        "outputId": "1168f308-1b50-432d-ce42-892af49498c1"
      },
      "execution_count": null,
      "outputs": [
        {
          "output_type": "stream",
          "name": "stdout",
          "text": [
            "<class 'pandas.core.frame.DataFrame'>\n",
            "RangeIndex: 9240 entries, 0 to 9239\n",
            "Data columns (total 37 columns):\n",
            " #   Column                                         Non-Null Count  Dtype  \n",
            "---  ------                                         --------------  -----  \n",
            " 0   Prospect ID                                    9240 non-null   object \n",
            " 1   Lead Number                                    9240 non-null   int64  \n",
            " 2   Lead Origin                                    9240 non-null   object \n",
            " 3   Lead Source                                    9204 non-null   object \n",
            " 4   Do Not Email                                   9240 non-null   object \n",
            " 5   Do Not Call                                    9240 non-null   object \n",
            " 6   Converted                                      9240 non-null   int64  \n",
            " 7   TotalVisits                                    9103 non-null   float64\n",
            " 8   Total Time Spent on Website                    9240 non-null   int64  \n",
            " 9   Page Views Per Visit                           9103 non-null   float64\n",
            " 10  Last Activity                                  9137 non-null   object \n",
            " 11  Country                                        6779 non-null   object \n",
            " 12  Specialization                                 7802 non-null   object \n",
            " 13  How did you hear about X Education             7033 non-null   object \n",
            " 14  What is your current occupation                6550 non-null   object \n",
            " 15  What matters most to you in choosing a course  6531 non-null   object \n",
            " 16  Search                                         9240 non-null   object \n",
            " 17  Magazine                                       9240 non-null   object \n",
            " 18  Newspaper Article                              9240 non-null   object \n",
            " 19  X Education Forums                             9240 non-null   object \n",
            " 20  Newspaper                                      9240 non-null   object \n",
            " 21  Digital Advertisement                          9240 non-null   object \n",
            " 22  Through Recommendations                        9240 non-null   object \n",
            " 23  Receive More Updates About Our Courses         9240 non-null   object \n",
            " 24  Tags                                           5887 non-null   object \n",
            " 25  Lead Quality                                   4473 non-null   object \n",
            " 26  Update me on Supply Chain Content              9240 non-null   object \n",
            " 27  Get updates on DM Content                      9240 non-null   object \n",
            " 28  Lead Profile                                   6531 non-null   object \n",
            " 29  City                                           7820 non-null   object \n",
            " 30  Asymmetrique Activity Index                    5022 non-null   object \n",
            " 31  Asymmetrique Profile Index                     5022 non-null   object \n",
            " 32  Asymmetrique Activity Score                    5022 non-null   float64\n",
            " 33  Asymmetrique Profile Score                     5022 non-null   float64\n",
            " 34  I agree to pay the amount through cheque       9240 non-null   object \n",
            " 35  A free copy of Mastering The Interview         9240 non-null   object \n",
            " 36  Last Notable Activity                          9240 non-null   object \n",
            "dtypes: float64(4), int64(3), object(30)\n",
            "memory usage: 2.6+ MB\n"
          ]
        }
      ]
    },
    {
      "cell_type": "markdown",
      "source": [
        "**Removing Unwanted Columns**"
      ],
      "metadata": {
        "id": "w_v_r2w_mX_B"
      }
    },
    {
      "cell_type": "code",
      "source": [
        "new_df=df.drop(['Tags','Lead Quality','Asymmetrique Activity Index','Asymmetrique Profile Index','Country','What matters most to you in choosing a course'],axis=1)"
      ],
      "metadata": {
        "id": "TJbqgfO_hBOi"
      },
      "execution_count": null,
      "outputs": []
    },
    {
      "cell_type": "code",
      "source": [
        "new_df.info()"
      ],
      "metadata": {
        "colab": {
          "base_uri": "https://localhost:8080/"
        },
        "id": "nLjK1nMJjolJ",
        "outputId": "b37310c2-8be9-41f8-bf5d-b025c079766d"
      },
      "execution_count": null,
      "outputs": [
        {
          "output_type": "stream",
          "name": "stdout",
          "text": [
            "<class 'pandas.core.frame.DataFrame'>\n",
            "RangeIndex: 9240 entries, 0 to 9239\n",
            "Data columns (total 31 columns):\n",
            " #   Column                                    Non-Null Count  Dtype  \n",
            "---  ------                                    --------------  -----  \n",
            " 0   Prospect ID                               9240 non-null   object \n",
            " 1   Lead Number                               9240 non-null   int64  \n",
            " 2   Lead Origin                               9240 non-null   object \n",
            " 3   Lead Source                               9204 non-null   object \n",
            " 4   Do Not Email                              9240 non-null   object \n",
            " 5   Do Not Call                               9240 non-null   object \n",
            " 6   Converted                                 9240 non-null   int64  \n",
            " 7   TotalVisits                               9103 non-null   float64\n",
            " 8   Total Time Spent on Website               9240 non-null   int64  \n",
            " 9   Page Views Per Visit                      9103 non-null   float64\n",
            " 10  Last Activity                             9137 non-null   object \n",
            " 11  Specialization                            7802 non-null   object \n",
            " 12  How did you hear about X Education        7033 non-null   object \n",
            " 13  What is your current occupation           6550 non-null   object \n",
            " 14  Search                                    9240 non-null   object \n",
            " 15  Magazine                                  9240 non-null   object \n",
            " 16  Newspaper Article                         9240 non-null   object \n",
            " 17  X Education Forums                        9240 non-null   object \n",
            " 18  Newspaper                                 9240 non-null   object \n",
            " 19  Digital Advertisement                     9240 non-null   object \n",
            " 20  Through Recommendations                   9240 non-null   object \n",
            " 21  Receive More Updates About Our Courses    9240 non-null   object \n",
            " 22  Update me on Supply Chain Content         9240 non-null   object \n",
            " 23  Get updates on DM Content                 9240 non-null   object \n",
            " 24  Lead Profile                              6531 non-null   object \n",
            " 25  City                                      7820 non-null   object \n",
            " 26  Asymmetrique Activity Score               5022 non-null   float64\n",
            " 27  Asymmetrique Profile Score                5022 non-null   float64\n",
            " 28  I agree to pay the amount through cheque  9240 non-null   object \n",
            " 29  A free copy of Mastering The Interview    9240 non-null   object \n",
            " 30  Last Notable Activity                     9240 non-null   object \n",
            "dtypes: float64(4), int64(3), object(24)\n",
            "memory usage: 2.2+ MB\n"
          ]
        }
      ]
    },
    {
      "cell_type": "code",
      "source": [
        "new_df.columns"
      ],
      "metadata": {
        "colab": {
          "base_uri": "https://localhost:8080/"
        },
        "id": "3t4B9vAXl_IW",
        "outputId": "d51589dc-d943-4f08-8d8a-39857e9212dc"
      },
      "execution_count": null,
      "outputs": [
        {
          "output_type": "execute_result",
          "data": {
            "text/plain": [
              "Index(['Prospect ID', 'Lead Number', 'Lead Origin', 'Lead Source',\n",
              "       'Do Not Email', 'Do Not Call', 'Converted', 'TotalVisits',\n",
              "       'Total Time Spent on Website', 'Page Views Per Visit', 'Last Activity',\n",
              "       'Specialization', 'How did you hear about X Education',\n",
              "       'What is your current occupation', 'Search', 'Magazine',\n",
              "       'Newspaper Article', 'X Education Forums', 'Newspaper',\n",
              "       'Digital Advertisement', 'Through Recommendations',\n",
              "       'Receive More Updates About Our Courses',\n",
              "       'Update me on Supply Chain Content', 'Get updates on DM Content',\n",
              "       'Lead Profile', 'City', 'Asymmetrique Activity Score',\n",
              "       'Asymmetrique Profile Score',\n",
              "       'I agree to pay the amount through cheque',\n",
              "       'A free copy of Mastering The Interview', 'Last Notable Activity'],\n",
              "      dtype='object')"
            ]
          },
          "metadata": {},
          "execution_count": 7
        }
      ]
    },
    {
      "cell_type": "code",
      "source": [
        "new_df.shape"
      ],
      "metadata": {
        "colab": {
          "base_uri": "https://localhost:8080/"
        },
        "id": "ljiAUm0VmEoV",
        "outputId": "4172c3d9-5543-4972-ac6b-f95889c89c8e"
      },
      "execution_count": null,
      "outputs": [
        {
          "output_type": "execute_result",
          "data": {
            "text/plain": [
              "(9240, 31)"
            ]
          },
          "metadata": {},
          "execution_count": 8
        }
      ]
    },
    {
      "cell_type": "markdown",
      "source": [
        "**Filling Missing Values**"
      ],
      "metadata": {
        "id": "ZBucf-7hmhew"
      }
    },
    {
      "cell_type": "code",
      "source": [
        "new_df['Specialization'].fillna(new_df['Specialization'].mode()[0],inplace=True)"
      ],
      "metadata": {
        "id": "RTdgMUmslB4R"
      },
      "execution_count": null,
      "outputs": []
    },
    {
      "cell_type": "code",
      "source": [
        "new_df['TotalVisits'].fillna(new_df['TotalVisits'].mean(),inplace=True)"
      ],
      "metadata": {
        "id": "HU4eLH84b_os"
      },
      "execution_count": null,
      "outputs": []
    },
    {
      "cell_type": "code",
      "source": [
        "new_df['Lead Source'].fillna(new_df['Lead Source'].mode()[0],inplace=True)"
      ],
      "metadata": {
        "id": "Ly3bVKAEe6or"
      },
      "execution_count": null,
      "outputs": []
    },
    {
      "cell_type": "code",
      "source": [
        "new_df['Page Views Per Visit'].fillna(new_df['Page Views Per Visit'].mean(),inplace=True)"
      ],
      "metadata": {
        "id": "p8odeT7YfYyC"
      },
      "execution_count": null,
      "outputs": []
    },
    {
      "cell_type": "code",
      "source": [
        "new_df['Last Activity'].fillna(new_df['Last Activity'].mode()[0],inplace=True)"
      ],
      "metadata": {
        "id": "Qe0JR2tnfRns"
      },
      "execution_count": null,
      "outputs": []
    },
    {
      "cell_type": "code",
      "source": [
        "new_df['How did you hear about X Education'].fillna(new_df['How did you hear about X Education'].mode()[0],inplace=True)"
      ],
      "metadata": {
        "id": "b1ibTPMedxBT"
      },
      "execution_count": null,
      "outputs": []
    },
    {
      "cell_type": "code",
      "source": [
        "new_df['What is your current occupation'].fillna(new_df['What is your current occupation'].mode()[0],inplace=True)"
      ],
      "metadata": {
        "id": "hydfThUglaEP"
      },
      "execution_count": null,
      "outputs": []
    },
    {
      "cell_type": "code",
      "source": [
        "new_df['City'].fillna(new_df['City'].mode()[0],inplace=True)"
      ],
      "metadata": {
        "id": "DG62mcosl8C5"
      },
      "execution_count": null,
      "outputs": []
    },
    {
      "cell_type": "code",
      "source": [
        "new_df['Asymmetrique Activity Score'].fillna(new_df['Asymmetrique Activity Score'].median(),inplace=True)"
      ],
      "metadata": {
        "id": "vH2q7EsZmftI"
      },
      "execution_count": null,
      "outputs": []
    },
    {
      "cell_type": "code",
      "source": [
        "new_df['Asymmetrique Profile Score'].fillna(new_df['Asymmetrique Profile Score'].median(),inplace=True)"
      ],
      "metadata": {
        "id": "MSCXd7P_m7iP"
      },
      "execution_count": null,
      "outputs": []
    },
    {
      "cell_type": "code",
      "source": [
        "new_df['Lead Profile'].fillna(new_df['Lead Profile'].mode()[0],inplace=True)"
      ],
      "metadata": {
        "id": "8LJMCJw-DKDe"
      },
      "execution_count": null,
      "outputs": []
    },
    {
      "cell_type": "code",
      "source": [
        "new_df.isnull().sum()"
      ],
      "metadata": {
        "colab": {
          "base_uri": "https://localhost:8080/"
        },
        "id": "07tidPFU8Ab6",
        "outputId": "4fc06bd1-e931-40e8-ed6f-562575c120ad"
      },
      "execution_count": null,
      "outputs": [
        {
          "output_type": "execute_result",
          "data": {
            "text/plain": [
              "Prospect ID                                 0\n",
              "Lead Number                                 0\n",
              "Lead Origin                                 0\n",
              "Lead Source                                 0\n",
              "Do Not Email                                0\n",
              "Do Not Call                                 0\n",
              "Converted                                   0\n",
              "TotalVisits                                 0\n",
              "Total Time Spent on Website                 0\n",
              "Page Views Per Visit                        0\n",
              "Last Activity                               0\n",
              "Specialization                              0\n",
              "How did you hear about X Education          0\n",
              "What is your current occupation             0\n",
              "Search                                      0\n",
              "Magazine                                    0\n",
              "Newspaper Article                           0\n",
              "X Education Forums                          0\n",
              "Newspaper                                   0\n",
              "Digital Advertisement                       0\n",
              "Through Recommendations                     0\n",
              "Receive More Updates About Our Courses      0\n",
              "Update me on Supply Chain Content           0\n",
              "Get updates on DM Content                   0\n",
              "Lead Profile                                0\n",
              "City                                        0\n",
              "Asymmetrique Activity Score                 0\n",
              "Asymmetrique Profile Score                  0\n",
              "I agree to pay the amount through cheque    0\n",
              "A free copy of Mastering The Interview      0\n",
              "Last Notable Activity                       0\n",
              "dtype: int64"
            ]
          },
          "metadata": {},
          "execution_count": 20
        }
      ]
    },
    {
      "cell_type": "markdown",
      "source": [
        "**Explore Data Analytics**"
      ],
      "metadata": {
        "id": "McHxRGbhmVS4"
      }
    },
    {
      "cell_type": "code",
      "source": [
        "sns.countplot(data=new_df,x='Converted')\n",
        "plt.show()"
      ],
      "metadata": {
        "colab": {
          "base_uri": "https://localhost:8080/",
          "height": 449
        },
        "id": "tIeRht3Mn7TD",
        "outputId": "e7eafd9a-4b1f-44b8-cb54-81992645a663"
      },
      "execution_count": null,
      "outputs": [
        {
          "output_type": "display_data",
          "data": {
            "text/plain": [
              "<Figure size 640x480 with 1 Axes>"
            ],
            "image/png": "[encoded data removed]"
          },
          "metadata": {}
        }
      ]
    },
    {
      "cell_type": "markdown",
      "source": [
        "With the help of the countplot we can see that 3561 people have sucessfully covert to paying customer for the edu-tech platform and reaming of them are not converted\n",
        "\n",
        "*   1- Represent Sucessful conversion(the lead became paying customer)\n",
        "*   0- Represent that the lead did not convert.\n",
        "\n",
        "\n",
        "\n"
      ],
      "metadata": {
        "id": "tI5AzVr8p0Os"
      }
    },
    {
      "cell_type": "code",
      "source": [
        "new_df['Converted'].value_counts()"
      ],
      "metadata": {
        "colab": {
          "base_uri": "https://localhost:8080/"
        },
        "id": "3hiCI2QKpUzl",
        "outputId": "18cf9783-6065-404a-9dde-5258b1092664"
      },
      "execution_count": null,
      "outputs": [
        {
          "output_type": "execute_result",
          "data": {
            "text/plain": [
              "0    5679\n",
              "1    3561\n",
              "Name: Converted, dtype: int64"
            ]
          },
          "metadata": {},
          "execution_count": 22
        }
      ]
    },
    {
      "cell_type": "code",
      "source": [
        "sns.countplot(data=new_df,x='Lead Source',hue='Converted')\n",
        "plt.xticks(rotation=90)\n",
        "plt.show()"
      ],
      "metadata": {
        "colab": {
          "base_uri": "https://localhost:8080/",
          "height": 569
        },
        "id": "7Oh5IWSIpHQW",
        "outputId": "cb5c3564-e943-4933-defa-487a3de0862b"
      },
      "execution_count": null,
      "outputs": [
        {
          "output_type": "display_data",
          "data": {
            "text/plain": [
              "<Figure size 640x480 with 1 Axes>"
            ],
            "image/png": "[encoded data removed]"
          },
          "metadata": {}
        }
      ]
    },
    {
      "cell_type": "code",
      "source": [
        "df['Lead Source'].value_counts()"
      ],
      "metadata": {
        "colab": {
          "base_uri": "https://localhost:8080/"
        },
        "id": "Cwt3vDWZr5po",
        "outputId": "45b93472-5dc2-409d-a228-f51dab18aea6"
      },
      "execution_count": null,
      "outputs": [
        {
          "output_type": "execute_result",
          "data": {
            "text/plain": [
              "Google               2868\n",
              "Direct Traffic       2543\n",
              "Olark Chat           1755\n",
              "Organic Search       1154\n",
              "Reference             534\n",
              "Welingak Website      142\n",
              "Referral Sites        125\n",
              "Facebook               55\n",
              "bing                    6\n",
              "google                  5\n",
              "Click2call              4\n",
              "Press_Release           2\n",
              "Social Media            2\n",
              "Live Chat               2\n",
              "youtubechannel          1\n",
              "testone                 1\n",
              "Pay per Click Ads       1\n",
              "welearnblog_Home        1\n",
              "WeLearn                 1\n",
              "blog                    1\n",
              "NC_EDM                  1\n",
              "Name: Lead Source, dtype: int64"
            ]
          },
          "metadata": {},
          "execution_count": 24
        }
      ]
    },
    {
      "cell_type": "markdown",
      "source": [
        "We can clearly see that most of the people are seeing advertisement on Google and if they visit that advertisement there is high probability to convert the customer into paying customer for edu-tech platform compare to other sites.\n",
        "\n",
        "The company should mainly focused on the below categories:\n",
        "\n",
        "\n",
        "*   Google\n",
        "*   Direct Traffic\n",
        "*   Reference\n",
        "*   Olark Chat\n",
        "*   Organic Search\n",
        "\n",
        "\n",
        "\n",
        "\n",
        "\n",
        "\n",
        "\n"
      ],
      "metadata": {
        "id": "dogMmSMcruv7"
      }
    },
    {
      "cell_type": "code",
      "source": [
        "sns.barplot(data=new_df,x='Lead Source',y='Total Time Spent on Website',hue='Converted')\n",
        "plt.xticks(rotation=90)\n",
        "plt.show()"
      ],
      "metadata": {
        "colab": {
          "base_uri": "https://localhost:8080/",
          "height": 569
        },
        "id": "fzCe19wuxhuZ",
        "outputId": "392dea1c-5cc5-4d95-9a0f-98e587f47085"
      },
      "execution_count": null,
      "outputs": [
        {
          "output_type": "display_data",
          "data": {
            "text/plain": [
              "<Figure size 640x480 with 1 Axes>"
            ],
            "image/png": "[encoded data removed]"
          },
          "metadata": {}
        }
      ]
    },
    {
      "cell_type": "markdown",
      "source": [
        "With the help of the above bar chart we can clearly indentified people who spends the high time on the \"total time spent on website\" they have the high probability to convert the customer into paying customer for edu-tech.\n",
        "\n"
      ],
      "metadata": {
        "id": "4lj9wzsg2msh"
      }
    },
    {
      "cell_type": "code",
      "source": [
        "sns.countplot(data=new_df,x='City',hue='Converted')\n",
        "plt.xticks(rotation=90)\n",
        "plt.show()"
      ],
      "metadata": {
        "colab": {
          "base_uri": "https://localhost:8080/",
          "height": 628
        },
        "id": "566AJgDsxhtL",
        "outputId": "014883a9-c66e-425e-c2f8-0c8c28096d9c"
      },
      "execution_count": null,
      "outputs": [
        {
          "output_type": "display_data",
          "data": {
            "text/plain": [
              "<Figure size 640x480 with 1 Axes>"
            ],
            "image/png": "[encoded data removed]"
          },
          "metadata": {}
        }
      ]
    },
    {
      "cell_type": "markdown",
      "source": [
        "According to this dataset mumbai has convert the major customer to the paying customer"
      ],
      "metadata": {
        "id": "WgYHYQfZfS0p"
      }
    },
    {
      "cell_type": "code",
      "source": [
        "df['Lead Origin'].value_counts()"
      ],
      "metadata": {
        "colab": {
          "base_uri": "https://localhost:8080/"
        },
        "id": "ayXr2p2dODgP",
        "outputId": "bad6c65e-04e2-4f50-ef8b-4faf670f63e4"
      },
      "execution_count": null,
      "outputs": [
        {
          "output_type": "execute_result",
          "data": {
            "text/plain": [
              "Landing Page Submission    4886\n",
              "API                        3580\n",
              "Lead Add Form               718\n",
              "Lead Import                  55\n",
              "Quick Add Form                1\n",
              "Name: Lead Origin, dtype: int64"
            ]
          },
          "metadata": {},
          "execution_count": 27
        }
      ]
    },
    {
      "cell_type": "code",
      "source": [
        "sns.countplot(data=new_df,x='Lead Origin',hue='Converted')\n",
        "plt.xticks(rotation=90)\n",
        "plt.show()"
      ],
      "metadata": {
        "colab": {
          "base_uri": "https://localhost:8080/",
          "height": 613
        },
        "id": "BfjOE8vDOO8X",
        "outputId": "a7749960-25f6-4be6-f35c-ab57deab390d"
      },
      "execution_count": null,
      "outputs": [
        {
          "output_type": "display_data",
          "data": {
            "text/plain": [
              "<Figure size 640x480 with 1 Axes>"
            ],
            "image/png": "[encoded data removed]"
          },
          "metadata": {}
        }
      ]
    },
    {
      "cell_type": "code",
      "source": [
        "sns.countplot(data=new_df,x='Specialization',hue='Converted')\n",
        "plt.xticks(rotation=90)\n",
        "plt.show()"
      ],
      "metadata": {
        "colab": {
          "base_uri": "https://localhost:8080/",
          "height": 684
        },
        "id": "Ddk5cmbo8lG9",
        "outputId": "1c359112-b4fe-465a-94b9-8d65318540a4"
      },
      "execution_count": null,
      "outputs": [
        {
          "output_type": "display_data",
          "data": {
            "text/plain": [
              "<Figure size 640x480 with 1 Axes>"
            ],
            "image/png": "[encoded data removed]"
          },
          "metadata": {}
        }
      ]
    },
    {
      "cell_type": "code",
      "source": [
        "sns.countplot(data=new_df,x='What is your current occupation',hue='Converted')\n",
        "plt.xticks(rotation=90)\n",
        "plt.show()"
      ],
      "metadata": {
        "colab": {
          "base_uri": "https://localhost:8080/",
          "height": 580
        },
        "id": "aHA81e3k819v",
        "outputId": "776b3485-76b0-4c9d-a82a-be11f3aefff2"
      },
      "execution_count": null,
      "outputs": [
        {
          "output_type": "display_data",
          "data": {
            "text/plain": [
              "<Figure size 640x480 with 1 Axes>"
            ],
            "image/png": "[encoded data removed]"
          },
          "metadata": {}
        }
      ]
    },
    {
      "cell_type": "code",
      "source": [
        "sns.countplot(data=new_df,x='Last Notable Activity',hue='Converted')\n",
        "plt.xticks(rotation=90)\n",
        "plt.show()"
      ],
      "metadata": {
        "colab": {
          "base_uri": "https://localhost:8080/",
          "height": 629
        },
        "id": "pwu_ySKLfwrd",
        "outputId": "b7e5baa4-eed2-4136-c3b2-0abafc8be9f3"
      },
      "execution_count": null,
      "outputs": [
        {
          "output_type": "display_data",
          "data": {
            "text/plain": [
              "<Figure size 640x480 with 1 Axes>"
            ],
            "image/png": "[encoded data removed]"
          },
          "metadata": {}
        }
      ]
    },
    {
      "cell_type": "markdown",
      "source": [
        "With the help of the above count plot we can clearly see that the unemployed people having high probability to convert into paying customer so, the company should focus more on the unemployed people and then working professional and so on.."
      ],
      "metadata": {
        "id": "_NEQSph_9g-I"
      }
    },
    {
      "cell_type": "code",
      "source": [
        "sns.countplot(data=new_df,x='Asymmetrique Activity Score',hue='Converted')\n",
        "plt.xticks(rotation=90)\n",
        "plt.show()"
      ],
      "metadata": {
        "colab": {
          "base_uri": "https://localhost:8080/",
          "height": 466
        },
        "id": "9bQRq9v_nKDk",
        "outputId": "0b4504d3-4c7f-45e7-97ee-effbae6933b5"
      },
      "execution_count": null,
      "outputs": [
        {
          "output_type": "display_data",
          "data": {
            "text/plain": [
              "<Figure size 640x480 with 1 Axes>"
            ],
            "image/png": "[encoded data removed]"
          },
          "metadata": {}
        }
      ]
    },
    {
      "cell_type": "markdown",
      "source": [
        "**Encoding**"
      ],
      "metadata": {
        "id": "GZzT_yQe_keG"
      }
    },
    {
      "cell_type": "markdown",
      "source": [
        "**Ordinal Encoding For Lead Origin based on Converted**\n",
        "\n",
        "\n",
        "Landing page submission have the higher weigthage because they converting high number of customers to paying customer follwed by API, Lead Add Form, Lead Import and Quick Add Form  \n",
        "\n",
        "Landing page submission-5\n",
        "API-4\n",
        "Lead Add Form-3\n",
        "Lead Import-2\n",
        "Quick Add Form -1"
      ],
      "metadata": {
        "id": "pr03pt_HOv-N"
      }
    },
    {
      "cell_type": "code",
      "source": [
        "mapping_lead_origin={\"Landing Page Submission\":5,\"API\":4,\"Lead Add Form\":3,\"Lead Import\":2,\"Quick Add Form\":1}\n",
        "new_df['Lead Origin']=df['Lead Origin'].map(mapping_lead_origin)"
      ],
      "metadata": {
        "id": "hDN7UNC9KgaM"
      },
      "execution_count": null,
      "outputs": []
    },
    {
      "cell_type": "markdown",
      "source": [
        "**Ordinal encoding for Lead source based on Converted**\n",
        "\n",
        "Google                 13\n",
        "Direct Traffic         12\n",
        "Olark Chat             11\n",
        "Organic Search         10\n",
        "Reference               9\n",
        "Welingak Website        8\n",
        "Referral Sites          7\n",
        "Facebook                6\n",
        "bing                    5\n",
        "google                  4\n",
        "Click2call              3\n",
        "Press_Release           2\n",
        "Social Media            2\n",
        "Live Chat               2\n",
        "youtubechannel          1\n",
        "testone                 1\n",
        "Pay per Click Ads       1\n",
        "welearnblog_Home        1\n",
        "WeLearn                 1\n",
        "blog                    1\n",
        "NC_EDM                  1\n",
        "Name: Lead Source, dtype: int64"
      ],
      "metadata": {
        "id": "KGXlEXbZRkm5"
      }
    },
    {
      "cell_type": "code",
      "source": [
        "mapping_lead_source={\"Google\":12,\"google\":12,\"Direct Traffic\":11,\"Olark Chat\":10,\"Organic Search\":9,\"Reference\":8,\"Welingak Website\":7,\"Referral Sites\":6,\"Facebook\":5,\"bing\":4,\"Click2call\":3,\n",
        "                     \"Press_Release\":2,\"Social Media\":2,\"Live Chat\":2,\"youtubechannel\":1,\"testone\":1,\"Pay per Click Ads\":1,\"welearnblog_Home\":1,\"WeLearn\":1,\"blog\":1,\"NC_EDM\":1}\n",
        "new_df['Lead Source']=new_df['Lead Source'].map(mapping_lead_source)"
      ],
      "metadata": {
        "id": "JTxWbOLLN6if"
      },
      "execution_count": null,
      "outputs": []
    },
    {
      "cell_type": "code",
      "source": [
        "mapping_do_not_email={\"No\":0,\"Yes\":1}\n",
        "new_df['Do Not Email']=new_df['Do Not Email'].map(mapping_do_not_email)"
      ],
      "metadata": {
        "id": "uUgrhHtzA5zj"
      },
      "execution_count": null,
      "outputs": []
    },
    {
      "cell_type": "code",
      "source": [
        "mapping_do_not_call={\"No\":0,\"Yes\":1}\n",
        "new_df['Do Not Call']=new_df['Do Not Call'].map(mapping_do_not_call)"
      ],
      "metadata": {
        "id": "UW8QIdhRBP5L"
      },
      "execution_count": null,
      "outputs": []
    },
    {
      "cell_type": "code",
      "source": [
        "mapping_last_activity={\"Email Opened\":15,\"SMS Sent\":14,\"Olark Chat Conversation\":13,\"Page Visited on Website\":12,\"Converted to Lead\":11,\"Email Bounced\":10,\"Email Link Clicked\":9,\n",
        "                       \"Form Submitted on Website\":8,\"Unreachable\":7,\"Unsubscribed\":6,\"Had a Phone Conversation\":5,\"Approached upfront\":4,\"View in browser link Clicked\":3,\"Email Received\":2,\"Email Marked Spam\":2,\"Visited Booth in Tradeshow\":1,\"Resubscribed to emails\":1}\n",
        "new_df['Last Activity']=new_df['Last Activity'].map(mapping_last_activity)"
      ],
      "metadata": {
        "id": "kYbxu1BWKbZ4"
      },
      "execution_count": null,
      "outputs": []
    },
    {
      "cell_type": "code",
      "source": [
        "mapping_specialization={\"Select\":18,\"Finance Management\":17,\"Human Resource Management\":16,\"Marketing Management\":15,\"Operations Management\":14,\"Business Administration\":13,\"IT Projects Management\":12,\"Supply Chain Management\":11,\"Banking, Investment And Insurance\":10,\n",
        "                        \"Travel and Tourism\":9,\"Media and Advertising\":9,\"International Business\":8,\"Healthcare Management\":7,\"Hospitality Management\":6,\"E-COMMERCE\":5,\"Retail Management\":4,\"Rural and Agribusiness\":3,\"E-Business\":2,\"Services Excellence\":1}\n",
        "new_df['Specialization']=new_df['Specialization'].map(mapping_specialization)"
      ],
      "metadata": {
        "id": "21sCZSFpVTw0"
      },
      "execution_count": null,
      "outputs": []
    },
    {
      "cell_type": "code",
      "source": [
        "mapping_how_x_education={\"Select\":10,\"Online Search\":9,\"Word Of Mouth\":8,\"Student of SomeSchool\":7,\"Other\":6,\"Multiple Sources\":5,\"Advertisements\":4,\"Social Media\":3,\"Email\":2,\"SMS\":1}\n",
        "new_df['How did you hear about X Education']=new_df['How did you hear about X Education'].map(mapping_how_x_education)"
      ],
      "metadata": {
        "id": "l7zb8Fs3Z6PL"
      },
      "execution_count": null,
      "outputs": []
    },
    {
      "cell_type": "code",
      "source": [
        "mapping_current_occupation={\"Unemployed\":6,\"Working Professional\":5,\"Student\":4,\"Other\":3,\"Housewife\":2,\"Businessman\":1}\n",
        "new_df['What is your current occupation']=new_df['What is your current occupation'].map(mapping_current_occupation)"
      ],
      "metadata": {
        "id": "I0mZ7WuwbSWt"
      },
      "execution_count": null,
      "outputs": []
    },
    {
      "cell_type": "code",
      "source": [
        "mapping_search={\"No\":0,\"Yes\":1}\n",
        "new_df['Search']=new_df['Search'].map(mapping_search)"
      ],
      "metadata": {
        "id": "1iGy_C51dg55"
      },
      "execution_count": null,
      "outputs": []
    },
    {
      "cell_type": "code",
      "source": [
        "mapping_newspaper_article={\"No\":0,\"Yes\":1}\n",
        "new_df['Newspaper Article']=new_df['Newspaper Article'].map(mapping_newspaper_article)"
      ],
      "metadata": {
        "id": "ioS2gyiNenlx"
      },
      "execution_count": null,
      "outputs": []
    },
    {
      "cell_type": "code",
      "source": [
        "mapping_x_education_forums={\"No\":0,\"Yes\":1}\n",
        "new_df['X Education Forums']=new_df['X Education Forums'].map(mapping_x_education_forums)"
      ],
      "metadata": {
        "id": "EBn09w1hgLGq"
      },
      "execution_count": null,
      "outputs": []
    },
    {
      "cell_type": "code",
      "source": [
        "mapping_magazine={\"No\":0,\"Yes\":1}\n",
        "new_df['Magazine']=new_df['Magazine'].map(mapping_magazine)"
      ],
      "metadata": {
        "id": "fgZo2v9YgkNa"
      },
      "execution_count": null,
      "outputs": []
    },
    {
      "cell_type": "code",
      "source": [
        "mapping_newspaper={\"No\":0,\"Yes\":1}\n",
        "new_df['Newspaper']=new_df['Newspaper'].map(mapping_newspaper)"
      ],
      "metadata": {
        "id": "JXl4758whCVY"
      },
      "execution_count": null,
      "outputs": []
    },
    {
      "cell_type": "code",
      "source": [
        "mapping_digital_ad={\"No\":0,\"Yes\":1}\n",
        "new_df['Digital Advertisement']=new_df['Digital Advertisement'].map(mapping_digital_ad)"
      ],
      "metadata": {
        "id": "8A5C1f3riX4v"
      },
      "execution_count": null,
      "outputs": []
    },
    {
      "cell_type": "code",
      "source": [
        "mapping_through_recommendation={\"No\":0,\"Yes\":1}\n",
        "new_df['Through Recommendations']=new_df['Through Recommendations'].map(mapping_through_recommendation)"
      ],
      "metadata": {
        "id": "SuA9LhI4jU4i"
      },
      "execution_count": null,
      "outputs": []
    },
    {
      "cell_type": "code",
      "source": [
        "mapping_recieve_more_updates={\"No\":0,\"Yes\":1}\n",
        "new_df['Receive More Updates About Our Courses']=new_df['Receive More Updates About Our Courses'].map(mapping_recieve_more_updates)"
      ],
      "metadata": {
        "id": "JzRxrD-xj3vA"
      },
      "execution_count": null,
      "outputs": []
    },
    {
      "cell_type": "code",
      "source": [
        "mapping_update_me_supply_chain={\"No\":0,\"Yes\":1}\n",
        "new_df['Update me on Supply Chain Content']=new_df['Update me on Supply Chain Content'].map(mapping_update_me_supply_chain)"
      ],
      "metadata": {
        "id": "qt4ByGE2kg43"
      },
      "execution_count": null,
      "outputs": []
    },
    {
      "cell_type": "code",
      "source": [
        "mapping_get_updates_dm={\"No\":0,\"Yes\":1}\n",
        "new_df['Get updates on DM Content']=new_df['Get updates on DM Content'].map(mapping_get_updates_dm)"
      ],
      "metadata": {
        "id": "brW2fngWk8H2"
      },
      "execution_count": null,
      "outputs": []
    },
    {
      "cell_type": "code",
      "source": [
        "mapping_lead_profile={\"Potential Lead\":5,\"Select\":6,\"Other Leads\":4,\"Student of SomeSchool\":3,\"Lateral Student\":2,\"Dual Specialization Student\":1}\n",
        "new_df['Lead Profile']=new_df['Lead Profile'].map(mapping_lead_profile)"
      ],
      "metadata": {
        "id": "1PniJ6zOEKkb"
      },
      "execution_count": null,
      "outputs": []
    },
    {
      "cell_type": "code",
      "source": [
        "mapping_cities={\"Mumbai\":7,\"Select\":6,\"Thane & Outskirts\":5,\"Other Cities\":4,\"Other Cities of Maharashtra\":3,\"Other Metro Cities\":2,\"Tier II Cities\":1}\n",
        "new_df['City']=new_df['City'].map(mapping_cities)"
      ],
      "metadata": {
        "id": "D5LbsZJQmDVI"
      },
      "execution_count": null,
      "outputs": []
    },
    {
      "cell_type": "code",
      "source": [
        "mapping_check={\"No\":0,\"Yes\":1}\n",
        "new_df['I agree to pay the amount through cheque']=new_df['I agree to pay the amount through cheque'].map(mapping_check)"
      ],
      "metadata": {
        "id": "G0Dw1KhjnJ6X"
      },
      "execution_count": null,
      "outputs": []
    },
    {
      "cell_type": "code",
      "source": [
        "mapping_free_copy={\"No\":0,\"Yes\":1}\n",
        "new_df['A free copy of Mastering The Interview']=new_df['A free copy of Mastering The Interview'].map(mapping_free_copy)"
      ],
      "metadata": {
        "id": "u2GzPHLmn2rX"
      },
      "execution_count": null,
      "outputs": []
    },
    {
      "cell_type": "code",
      "source": [
        "mapping_last_notable_activity={\"Modified\":12,\"Email Opened\":11,\"SMS Sent\":10,\"Page Visited on Website\":9,\"Olark Chat Conversation\":8,\"Email Link Clicked\":7,\"Email Bounced\":6,\"Unsubscribed\":5,\"Unreachable\":4,\"Had a Phone Conversation\":3,\n",
        "                               \"Email Marked Spam\":2,\"Approached upfront\":1,\"Resubscribed to emails\":1,\"View in browser link Clicked\":1,\"Form Submitted on Website\":1,\"Email Received\":1}\n",
        "new_df['Last Notable Activity']=new_df['Last Notable Activity'].map(mapping_last_notable_activity)"
      ],
      "metadata": {
        "id": "BTaT-0HaogTd"
      },
      "execution_count": null,
      "outputs": []
    },
    {
      "cell_type": "code",
      "source": [
        "new_df"
      ],
      "metadata": {
        "colab": {
          "base_uri": "https://localhost:8080/",
          "height": 1000
        },
        "id": "xZqJ2J07qRW2",
        "outputId": "5e6cac28-e960-4eed-8aed-957cad655b45"
      },
      "execution_count": null,
      "outputs": [
        {
          "output_type": "execute_result",
          "data": {
            "text/plain": [
              "                               Prospect ID  Lead Number  Lead Origin  \\\n",
              "0     7927b2df-8bba-4d29-b9a2-b6e0beafe620       660737            4   \n",
              "1     2a272436-5132-4136-86fa-dcc88c88f482       660728            4   \n",
              "2     8cc8c611-a219-4f35-ad23-fdfd2656bd8a       660727            5   \n",
              "3     0cc2df48-7cf4-4e39-9de9-19797f9b38cc       660719            5   \n",
              "4     3256f628-e534-4826-9d63-4a8b88782852       660681            5   \n",
              "...                                    ...          ...          ...   \n",
              "9235  19d6451e-fcd6-407c-b83b-48e1af805ea9       579564            5   \n",
              "9236  82a7005b-7196-4d56-95ce-a79f937a158d       579546            5   \n",
              "9237  aac550fe-a586-452d-8d3c-f1b62c94e02c       579545            5   \n",
              "9238  5330a7d1-2f2b-4df4-85d6-64ca2f6b95b9       579538            5   \n",
              "9239  571b5c8e-a5b2-4d57-8574-f2ffb06fdeff       579533            5   \n",
              "\n",
              "      Lead Source  Do Not Email  Do Not Call  Converted  TotalVisits  \\\n",
              "0              10             0            0          0          0.0   \n",
              "1               9             0            0          0          5.0   \n",
              "2              11             0            0          1          2.0   \n",
              "3              11             0            0          0          1.0   \n",
              "4              12             0            0          1          2.0   \n",
              "...           ...           ...          ...        ...          ...   \n",
              "9235           11             1            0          1          8.0   \n",
              "9236           11             0            0          0          2.0   \n",
              "9237           11             1            0          0          2.0   \n",
              "9238           12             0            0          1          3.0   \n",
              "9239           11             0            0          1          6.0   \n",
              "\n",
              "      Total Time Spent on Website  Page Views Per Visit  ...  \\\n",
              "0                               0                  0.00  ...   \n",
              "1                             674                  2.50  ...   \n",
              "2                            1532                  2.00  ...   \n",
              "3                             305                  1.00  ...   \n",
              "4                            1428                  1.00  ...   \n",
              "...                           ...                   ...  ...   \n",
              "9235                         1845                  2.67  ...   \n",
              "9236                          238                  2.00  ...   \n",
              "9237                          199                  2.00  ...   \n",
              "9238                          499                  3.00  ...   \n",
              "9239                         1279                  3.00  ...   \n",
              "\n",
              "      Receive More Updates About Our Courses  \\\n",
              "0                                          0   \n",
              "1                                          0   \n",
              "2                                          0   \n",
              "3                                          0   \n",
              "4                                          0   \n",
              "...                                      ...   \n",
              "9235                                       0   \n",
              "9236                                       0   \n",
              "9237                                       0   \n",
              "9238                                       0   \n",
              "9239                                       0   \n",
              "\n",
              "      Update me on Supply Chain Content  Get updates on DM Content  \\\n",
              "0                                     0                          0   \n",
              "1                                     0                          0   \n",
              "2                                     0                          0   \n",
              "3                                     0                          0   \n",
              "4                                     0                          0   \n",
              "...                                 ...                        ...   \n",
              "9235                                  0                          0   \n",
              "9236                                  0                          0   \n",
              "9237                                  0                          0   \n",
              "9238                                  0                          0   \n",
              "9239                                  0                          0   \n",
              "\n",
              "      Lead Profile  City  Asymmetrique Activity Score  \\\n",
              "0                6     6                         15.0   \n",
              "1                6     6                         15.0   \n",
              "2                5     7                         14.0   \n",
              "3                6     7                         13.0   \n",
              "4                6     7                         15.0   \n",
              "...            ...   ...                          ...   \n",
              "9235             5     7                         15.0   \n",
              "9236             5     7                         14.0   \n",
              "9237             5     7                         13.0   \n",
              "9238             6     2                         15.0   \n",
              "9239             5     4                         15.0   \n",
              "\n",
              "      Asymmetrique Profile Score  I agree to pay the amount through cheque  \\\n",
              "0                           15.0                                         0   \n",
              "1                           15.0                                         0   \n",
              "2                           20.0                                         0   \n",
              "3                           17.0                                         0   \n",
              "4                           18.0                                         0   \n",
              "...                          ...                                       ...   \n",
              "9235                        17.0                                         0   \n",
              "9236                        19.0                                         0   \n",
              "9237                        20.0                                         0   \n",
              "9238                        16.0                                         0   \n",
              "9239                        18.0                                         0   \n",
              "\n",
              "      A free copy of Mastering The Interview  Last Notable Activity  \n",
              "0                                          0                     12  \n",
              "1                                          0                     11  \n",
              "2                                          1                     11  \n",
              "3                                          0                     12  \n",
              "4                                          0                     12  \n",
              "...                                      ...                    ...  \n",
              "9235                                       0                      2  \n",
              "9236                                       1                     10  \n",
              "9237                                       1                     10  \n",
              "9238                                       0                     10  \n",
              "9239                                       1                     12  \n",
              "\n",
              "[9240 rows x 31 columns]"
            ],
            "text/html": [
              "\n",
              "  <div id=\"df-fb31d756-d34b-45ba-b2ca-cc4cc5d188e0\" class=\"colab-df-container\">\n",
              "    <div>\n",
              "<style scoped>\n",
              "    .dataframe tbody tr th:only-of-type {\n",
              "        vertical-align: middle;\n",
              "    }\n",
              "\n",
              "    .dataframe tbody tr th {\n",
              "        vertical-align: top;\n",
              "    }\n",
              "\n",
              "    .dataframe thead th {\n",
              "        text-align: right;\n",
              "    }\n",
              "</style>\n",
              "<table border=\"1\" class=\"dataframe\">\n",
              "  <thead>\n",
              "    <tr style=\"text-align: right;\">\n",
              "      <th></th>\n",
              "      <th>Prospect ID</th>\n",
              "      <th>Lead Number</th>\n",
              "      <th>Lead Origin</th>\n",
              "      <th>Lead Source</th>\n",
              "      <th>Do Not Email</th>\n",
              "      <th>Do Not Call</th>\n",
              "      <th>Converted</th>\n",
              "      <th>TotalVisits</th>\n",
              "      <th>Total Time Spent on Website</th>\n",
              "      <th>Page Views Per Visit</th>\n",
              "      <th>...</th>\n",
              "      <th>Receive More Updates About Our Courses</th>\n",
              "      <th>Update me on Supply Chain Content</th>\n",
              "      <th>Get updates on DM Content</th>\n",
              "      <th>Lead Profile</th>\n",
              "      <th>City</th>\n",
              "      <th>Asymmetrique Activity Score</th>\n",
              "      <th>Asymmetrique Profile Score</th>\n",
              "      <th>I agree to pay the amount through cheque</th>\n",
              "      <th>A free copy of Mastering The Interview</th>\n",
              "      <th>Last Notable Activity</th>\n",
              "    </tr>\n",
              "  </thead>\n",
              "  <tbody>\n",
              "    <tr>\n",
              "      <th>0</th>\n",
              "      <td>7927b2df-8bba-4d29-b9a2-b6e0beafe620</td>\n",
              "      <td>660737</td>\n",
              "      <td>4</td>\n",
              "      <td>10</td>\n",
              "      <td>0</td>\n",
              "      <td>0</td>\n",
              "      <td>0</td>\n",
              "      <td>0.0</td>\n",
              "      <td>0</td>\n",
              "      <td>0.00</td>\n",
              "      <td>...</td>\n",
              "      <td>0</td>\n",
              "      <td>0</td>\n",
              "      <td>0</td>\n",
              "      <td>6</td>\n",
              "      <td>6</td>\n",
              "      <td>15.0</td>\n",
              "      <td>15.0</td>\n",
              "      <td>0</td>\n",
              "      <td>0</td>\n",
              "      <td>12</td>\n",
              "    </tr>\n",
              "    <tr>\n",
              "      <th>1</th>\n",
              "      <td>2a272436-5132-4136-86fa-dcc88c88f482</td>\n",
              "      <td>660728</td>\n",
              "      <td>4</td>\n",
              "      <td>9</td>\n",
              "      <td>0</td>\n",
              "      <td>0</td>\n",
              "      <td>0</td>\n",
              "      <td>5.0</td>\n",
              "      <td>674</td>\n",
              "      <td>2.50</td>\n",
              "      <td>...</td>\n",
              "      <td>0</td>\n",
              "      <td>0</td>\n",
              "      <td>0</td>\n",
              "      <td>6</td>\n",
              "      <td>6</td>\n",
              "      <td>15.0</td>\n",
              "      <td>15.0</td>\n",
              "      <td>0</td>\n",
              "      <td>0</td>\n",
              "      <td>11</td>\n",
              "    </tr>\n",
              "    <tr>\n",
              "      <th>2</th>\n",
              "      <td>8cc8c611-a219-4f35-ad23-fdfd2656bd8a</td>\n",
              "      <td>660727</td>\n",
              "      <td>5</td>\n",
              "      <td>11</td>\n",
              "      <td>0</td>\n",
              "      <td>0</td>\n",
              "      <td>1</td>\n",
              "      <td>2.0</td>\n",
              "      <td>1532</td>\n",
              "      <td>2.00</td>\n",
              "      <td>...</td>\n",
              "      <td>0</td>\n",
              "      <td>0</td>\n",
              "      <td>0</td>\n",
              "      <td>5</td>\n",
              "      <td>7</td>\n",
              "      <td>14.0</td>\n",
              "      <td>20.0</td>\n",
              "      <td>0</td>\n",
              "      <td>1</td>\n",
              "      <td>11</td>\n",
              "    </tr>\n",
              "    <tr>\n",
              "      <th>3</th>\n",
              "      <td>0cc2df48-7cf4-4e39-9de9-19797f9b38cc</td>\n",
              "      <td>660719</td>\n",
              "      <td>5</td>\n",
              "      <td>11</td>\n",
              "      <td>0</td>\n",
              "      <td>0</td>\n",
              "      <td>0</td>\n",
              "      <td>1.0</td>\n",
              "      <td>305</td>\n",
              "      <td>1.00</td>\n",
              "      <td>...</td>\n",
              "      <td>0</td>\n",
              "      <td>0</td>\n",
              "      <td>0</td>\n",
              "      <td>6</td>\n",
              "      <td>7</td>\n",
              "      <td>13.0</td>\n",
              "      <td>17.0</td>\n",
              "      <td>0</td>\n",
              "      <td>0</td>\n",
              "      <td>12</td>\n",
              "    </tr>\n",
              "    <tr>\n",
              "      <th>4</th>\n",
              "      <td>3256f628-e534-4826-9d63-4a8b88782852</td>\n",
              "      <td>660681</td>\n",
              "      <td>5</td>\n",
              "      <td>12</td>\n",
              "      <td>0</td>\n",
              "      <td>0</td>\n",
              "      <td>1</td>\n",
              "      <td>2.0</td>\n",
              "      <td>1428</td>\n",
              "      <td>1.00</td>\n",
              "      <td>...</td>\n",
              "      <td>0</td>\n",
              "      <td>0</td>\n",
              "      <td>0</td>\n",
              "      <td>6</td>\n",
              "      <td>7</td>\n",
              "      <td>15.0</td>\n",
              "      <td>18.0</td>\n",
              "      <td>0</td>\n",
              "      <td>0</td>\n",
              "      <td>12</td>\n",
              "    </tr>\n",
              "    <tr>\n",
              "      <th>...</th>\n",
              "      <td>...</td>\n",
              "      <td>...</td>\n",
              "      <td>...</td>\n",
              "      <td>...</td>\n",
              "      <td>...</td>\n",
              "      <td>...</td>\n",
              "      <td>...</td>\n",
              "      <td>...</td>\n",
              "      <td>...</td>\n",
              "      <td>...</td>\n",
              "      <td>...</td>\n",
              "      <td>...</td>\n",
              "      <td>...</td>\n",
              "      <td>...</td>\n",
              "      <td>...</td>\n",
              "      <td>...</td>\n",
              "      <td>...</td>\n",
              "      <td>...</td>\n",
              "      <td>...</td>\n",
              "      <td>...</td>\n",
              "      <td>...</td>\n",
              "    </tr>\n",
              "    <tr>\n",
              "      <th>9235</th>\n",
              "      <td>19d6451e-fcd6-407c-b83b-48e1af805ea9</td>\n",
              "      <td>579564</td>\n",
              "      <td>5</td>\n",
              "      <td>11</td>\n",
              "      <td>1</td>\n",
              "      <td>0</td>\n",
              "      <td>1</td>\n",
              "      <td>8.0</td>\n",
              "      <td>1845</td>\n",
              "      <td>2.67</td>\n",
              "      <td>...</td>\n",
              "      <td>0</td>\n",
              "      <td>0</td>\n",
              "      <td>0</td>\n",
              "      <td>5</td>\n",
              "      <td>7</td>\n",
              "      <td>15.0</td>\n",
              "      <td>17.0</td>\n",
              "      <td>0</td>\n",
              "      <td>0</td>\n",
              "      <td>2</td>\n",
              "    </tr>\n",
              "    <tr>\n",
              "      <th>9236</th>\n",
              "      <td>82a7005b-7196-4d56-95ce-a79f937a158d</td>\n",
              "      <td>579546</td>\n",
              "      <td>5</td>\n",
              "      <td>11</td>\n",
              "      <td>0</td>\n",
              "      <td>0</td>\n",
              "      <td>0</td>\n",
              "      <td>2.0</td>\n",
              "      <td>238</td>\n",
              "      <td>2.00</td>\n",
              "      <td>...</td>\n",
              "      <td>0</td>\n",
              "      <td>0</td>\n",
              "      <td>0</td>\n",
              "      <td>5</td>\n",
              "      <td>7</td>\n",
              "      <td>14.0</td>\n",
              "      <td>19.0</td>\n",
              "      <td>0</td>\n",
              "      <td>1</td>\n",
              "      <td>10</td>\n",
              "    </tr>\n",
              "    <tr>\n",
              "      <th>9237</th>\n",
              "      <td>aac550fe-a586-452d-8d3c-f1b62c94e02c</td>\n",
              "      <td>579545</td>\n",
              "      <td>5</td>\n",
              "      <td>11</td>\n",
              "      <td>1</td>\n",
              "      <td>0</td>\n",
              "      <td>0</td>\n",
              "      <td>2.0</td>\n",
              "      <td>199</td>\n",
              "      <td>2.00</td>\n",
              "      <td>...</td>\n",
              "      <td>0</td>\n",
              "      <td>0</td>\n",
              "      <td>0</td>\n",
              "      <td>5</td>\n",
              "      <td>7</td>\n",
              "      <td>13.0</td>\n",
              "      <td>20.0</td>\n",
              "      <td>0</td>\n",
              "      <td>1</td>\n",
              "      <td>10</td>\n",
              "    </tr>\n",
              "    <tr>\n",
              "      <th>9238</th>\n",
              "      <td>5330a7d1-2f2b-4df4-85d6-64ca2f6b95b9</td>\n",
              "      <td>579538</td>\n",
              "      <td>5</td>\n",
              "      <td>12</td>\n",
              "      <td>0</td>\n",
              "      <td>0</td>\n",
              "      <td>1</td>\n",
              "      <td>3.0</td>\n",
              "      <td>499</td>\n",
              "      <td>3.00</td>\n",
              "      <td>...</td>\n",
              "      <td>0</td>\n",
              "      <td>0</td>\n",
              "      <td>0</td>\n",
              "      <td>6</td>\n",
              "      <td>2</td>\n",
              "      <td>15.0</td>\n",
              "      <td>16.0</td>\n",
              "      <td>0</td>\n",
              "      <td>0</td>\n",
              "      <td>10</td>\n",
              "    </tr>\n",
              "    <tr>\n",
              "      <th>9239</th>\n",
              "      <td>571b5c8e-a5b2-4d57-8574-f2ffb06fdeff</td>\n",
              "      <td>579533</td>\n",
              "      <td>5</td>\n",
              "      <td>11</td>\n",
              "      <td>0</td>\n",
              "      <td>0</td>\n",
              "      <td>1</td>\n",
              "      <td>6.0</td>\n",
              "      <td>1279</td>\n",
              "      <td>3.00</td>\n",
              "      <td>...</td>\n",
              "      <td>0</td>\n",
              "      <td>0</td>\n",
              "      <td>0</td>\n",
              "      <td>5</td>\n",
              "      <td>4</td>\n",
              "      <td>15.0</td>\n",
              "      <td>18.0</td>\n",
              "      <td>0</td>\n",
              "      <td>1</td>\n",
              "      <td>12</td>\n",
              "    </tr>\n",
              "  </tbody>\n",
              "</table>\n",
              "<p>9240 rows × 31 columns</p>\n",
              "</div>\n",
              "    <div class=\"colab-df-buttons\">\n",
              "\n",
              "  <div class=\"colab-df-container\">\n",
              "    <button class=\"colab-df-convert\" onclick=\"convertToInteractive('df-fb31d756-d34b-45ba-b2ca-cc4cc5d188e0')\"\n",
              "            title=\"Convert this dataframe to an interactive table.\"\n",
              "            style=\"display:none;\">\n",
              "\n",
              "  <svg xmlns=\"http://www.w3.org/2000/svg\" height=\"24px\" viewBox=\"0 -960 960 960\">\n",
              "    <path d=\"M120-120v-720h720v720H120Zm60-500h600v-160H180v160Zm220 220h160v-160H400v160Zm0 220h160v-160H400v160ZM180-400h160v-160H180v160Zm440 0h160v-160H620v160ZM180-180h160v-160H180v160Zm440 0h160v-160H620v160Z\"/>\n",
              "  </svg>\n",
              "    </button>\n",
              "\n",
              "  <style>\n",
              "    .colab-df-container {\n",
              "      display:flex;\n",
              "      gap: 12px;\n",
              "    }\n",
              "\n",
              "    .colab-df-convert {\n",
              "      background-color: #E8F0FE;\n",
              "      border: none;\n",
              "      border-radius: 50%;\n",
              "      cursor: pointer;\n",
              "      display: none;\n",
              "      fill: #1967D2;\n",
              "      height: 32px;\n",
              "      padding: 0 0 0 0;\n",
              "      width: 32px;\n",
              "    }\n",
              "\n",
              "    .colab-df-convert:hover {\n",
              "      background-color: #E2EBFA;\n",
              "      box-shadow: 0px 1px 2px rgba(60, 64, 67, 0.3), 0px 1px 3px 1px rgba(60, 64, 67, 0.15);\n",
              "      fill: #174EA6;\n",
              "    }\n",
              "\n",
              "    .colab-df-buttons div {\n",
              "      margin-bottom: 4px;\n",
              "    }\n",
              "\n",
              "    [theme=dark] .colab-df-convert {\n",
              "      background-color: #3B4455;\n",
              "      fill: #D2E3FC;\n",
              "    }\n",
              "\n",
              "    [theme=dark] .colab-df-convert:hover {\n",
              "      background-color: #434B5C;\n",
              "      box-shadow: 0px 1px 3px 1px rgba(0, 0, 0, 0.15);\n",
              "      filter: drop-shadow(0px 1px 2px rgba(0, 0, 0, 0.3));\n",
              "      fill: #FFFFFF;\n",
              "    }\n",
              "  </style>\n",
              "\n",
              "    <script>\n",
              "      const buttonEl =\n",
              "        document.querySelector('#df-fb31d756-d34b-45ba-b2ca-cc4cc5d188e0 button.colab-df-convert');\n",
              "      buttonEl.style.display =\n",
              "        google.colab.kernel.accessAllowed ? 'block' : 'none';\n",
              "\n",
              "      async function convertToInteractive(key) {\n",
              "        const element = document.querySelector('#df-fb31d756-d34b-45ba-b2ca-cc4cc5d188e0');\n",
              "        const dataTable =\n",
              "          await google.colab.kernel.invokeFunction('convertToInteractive',\n",
              "                                                    [key], {});\n",
              "        if (!dataTable) return;\n",
              "\n",
              "        const docLinkHtml = 'Like what you see? Visit the ' +\n",
              "          '<a target=\"_blank\" href=https://colab.research.google.com/notebooks/data_table.ipynb>data table notebook</a>'\n",
              "          + ' to learn more about interactive tables.';\n",
              "        element.innerHTML = '';\n",
              "        dataTable['output_type'] = 'display_data';\n",
              "        await google.colab.output.renderOutput(dataTable, element);\n",
              "        const docLink = document.createElement('div');\n",
              "        docLink.innerHTML = docLinkHtml;\n",
              "        element.appendChild(docLink);\n",
              "      }\n",
              "    </script>\n",
              "  </div>\n",
              "\n",
              "\n",
              "<div id=\"df-37ad2852-b165-4aba-aef2-6653c57d5930\">\n",
              "  <button class=\"colab-df-quickchart\" onclick=\"quickchart('df-37ad2852-b165-4aba-aef2-6653c57d5930')\"\n",
              "            title=\"Suggest charts.\"\n",
              "            style=\"display:none;\">\n",
              "\n",
              "<svg xmlns=\"http://www.w3.org/2000/svg\" height=\"24px\"viewBox=\"0 0 24 24\"\n",
              "     width=\"24px\">\n",
              "    <g>\n",
              "        <path d=\"M19 3H5c-1.1 0-2 .9-2 2v14c0 1.1.9 2 2 2h14c1.1 0 2-.9 2-2V5c0-1.1-.9-2-2-2zM9 17H7v-7h2v7zm4 0h-2V7h2v10zm4 0h-2v-4h2v4z\"/>\n",
              "    </g>\n",
              "</svg>\n",
              "  </button>\n",
              "\n",
              "<style>\n",
              "  .colab-df-quickchart {\n",
              "      --bg-color: #E8F0FE;\n",
              "      --fill-color: #1967D2;\n",
              "      --hover-bg-color: #E2EBFA;\n",
              "      --hover-fill-color: #174EA6;\n",
              "      --disabled-fill-color: #AAA;\n",
              "      --disabled-bg-color: #DDD;\n",
              "  }\n",
              "\n",
              "  [theme=dark] .colab-df-quickchart {\n",
              "      --bg-color: #3B4455;\n",
              "      --fill-color: #D2E3FC;\n",
              "      --hover-bg-color: #434B5C;\n",
              "      --hover-fill-color: #FFFFFF;\n",
              "      --disabled-bg-color: #3B4455;\n",
              "      --disabled-fill-color: #666;\n",
              "  }\n",
              "\n",
              "  .colab-df-quickchart {\n",
              "    background-color: var(--bg-color);\n",
              "    border: none;\n",
              "    border-radius: 50%;\n",
              "    cursor: pointer;\n",
              "    display: none;\n",
              "    fill: var(--fill-color);\n",
              "    height: 32px;\n",
              "    padding: 0;\n",
              "    width: 32px;\n",
              "  }\n",
              "\n",
              "  .colab-df-quickchart:hover {\n",
              "    background-color: var(--hover-bg-color);\n",
              "    box-shadow: 0 1px 2px rgba(60, 64, 67, 0.3), 0 1px 3px 1px rgba(60, 64, 67, 0.15);\n",
              "    fill: var(--button-hover-fill-color);\n",
              "  }\n",
              "\n",
              "  .colab-df-quickchart-complete:disabled,\n",
              "  .colab-df-quickchart-complete:disabled:hover {\n",
              "    background-color: var(--disabled-bg-color);\n",
              "    fill: var(--disabled-fill-color);\n",
              "    box-shadow: none;\n",
              "  }\n",
              "\n",
              "  .colab-df-spinner {\n",
              "    border: 2px solid var(--fill-color);\n",
              "    border-color: transparent;\n",
              "    border-bottom-color: var(--fill-color);\n",
              "    animation:\n",
              "      spin 1s steps(1) infinite;\n",
              "  }\n",
              "\n",
              "  @keyframes spin {\n",
              "    0% {\n",
              "      border-color: transparent;\n",
              "      border-bottom-color: var(--fill-color);\n",
              "      border-left-color: var(--fill-color);\n",
              "    }\n",
              "    20% {\n",
              "      border-color: transparent;\n",
              "      border-left-color: var(--fill-color);\n",
              "      border-top-color: var(--fill-color);\n",
              "    }\n",
              "    30% {\n",
              "      border-color: transparent;\n",
              "      border-left-color: var(--fill-color);\n",
              "      border-top-color: var(--fill-color);\n",
              "      border-right-color: var(--fill-color);\n",
              "    }\n",
              "    40% {\n",
              "      border-color: transparent;\n",
              "      border-right-color: var(--fill-color);\n",
              "      border-top-color: var(--fill-color);\n",
              "    }\n",
              "    60% {\n",
              "      border-color: transparent;\n",
              "      border-right-color: var(--fill-color);\n",
              "    }\n",
              "    80% {\n",
              "      border-color: transparent;\n",
              "      border-right-color: var(--fill-color);\n",
              "      border-bottom-color: var(--fill-color);\n",
              "    }\n",
              "    90% {\n",
              "      border-color: transparent;\n",
              "      border-bottom-color: var(--fill-color);\n",
              "    }\n",
              "  }\n",
              "</style>\n",
              "\n",
              "  <script>\n",
              "    async function quickchart(key) {\n",
              "      const quickchartButtonEl =\n",
              "        document.querySelector('#' + key + ' button');\n",
              "      quickchartButtonEl.disabled = true;  // To prevent multiple clicks.\n",
              "      quickchartButtonEl.classList.add('colab-df-spinner');\n",
              "      try {\n",
              "        const charts = await google.colab.kernel.invokeFunction(\n",
              "            'suggestCharts', [key], {});\n",
              "      } catch (error) {\n",
              "        console.error('Error during call to suggestCharts:', error);\n",
              "      }\n",
              "      quickchartButtonEl.classList.remove('colab-df-spinner');\n",
              "      quickchartButtonEl.classList.add('colab-df-quickchart-complete');\n",
              "    }\n",
              "    (() => {\n",
              "      let quickchartButtonEl =\n",
              "        document.querySelector('#df-37ad2852-b165-4aba-aef2-6653c57d5930 button');\n",
              "      quickchartButtonEl.style.display =\n",
              "        google.colab.kernel.accessAllowed ? 'block' : 'none';\n",
              "    })();\n",
              "  </script>\n",
              "</div>\n",
              "    </div>\n",
              "  </div>\n"
            ]
          },
          "metadata": {},
          "execution_count": 56
        }
      ]
    },
    {
      "cell_type": "code",
      "source": [
        "evaluation=new_df.drop(['Prospect ID','Lead Number'],axis=1)"
      ],
      "metadata": {
        "id": "3XKwjobrrMRt"
      },
      "execution_count": null,
      "outputs": []
    },
    {
      "cell_type": "code",
      "source": [
        "evaluation.shape"
      ],
      "metadata": {
        "colab": {
          "base_uri": "https://localhost:8080/"
        },
        "id": "jzBtf3_crbmd",
        "outputId": "afc390c0-be3e-47aa-9a4a-149069ecc32e"
      },
      "execution_count": null,
      "outputs": [
        {
          "output_type": "execute_result",
          "data": {
            "text/plain": [
              "(9240, 29)"
            ]
          },
          "metadata": {},
          "execution_count": 58
        }
      ]
    },
    {
      "cell_type": "markdown",
      "source": [
        "**Spliting Independent variable and Dependent Variable**"
      ],
      "metadata": {
        "id": "wfhCQA0cFYfn"
      }
    },
    {
      "cell_type": "code",
      "source": [
        "X=evaluation.drop(\"Converted\",axis=1)\n",
        "y=evaluation['Converted']"
      ],
      "metadata": {
        "id": "MVeggklqrKae"
      },
      "execution_count": null,
      "outputs": []
    },
    {
      "cell_type": "code",
      "source": [
        "X.head()"
      ],
      "metadata": {
        "colab": {
          "base_uri": "https://localhost:8080/",
          "height": 342
        },
        "id": "1_-yzSSQruFr",
        "outputId": "995eabb2-2365-4faf-d347-28d29620d7dc"
      },
      "execution_count": null,
      "outputs": [
        {
          "output_type": "execute_result",
          "data": {
            "text/plain": [
              "   Lead Origin  Lead Source  Do Not Email  Do Not Call  TotalVisits  \\\n",
              "0            4           10             0            0          0.0   \n",
              "1            4            9             0            0          5.0   \n",
              "2            5           11             0            0          2.0   \n",
              "3            5           11             0            0          1.0   \n",
              "4            5           12             0            0          2.0   \n",
              "\n",
              "   Total Time Spent on Website  Page Views Per Visit  Last Activity  \\\n",
              "0                            0                   0.0             12   \n",
              "1                          674                   2.5             15   \n",
              "2                         1532                   2.0             15   \n",
              "3                          305                   1.0              7   \n",
              "4                         1428                   1.0             11   \n",
              "\n",
              "   Specialization  How did you hear about X Education  ...  \\\n",
              "0              18                                  10  ...   \n",
              "1              18                                  10  ...   \n",
              "2              13                                  10  ...   \n",
              "3               9                                   8  ...   \n",
              "4              18                                   6  ...   \n",
              "\n",
              "   Receive More Updates About Our Courses  Update me on Supply Chain Content  \\\n",
              "0                                       0                                  0   \n",
              "1                                       0                                  0   \n",
              "2                                       0                                  0   \n",
              "3                                       0                                  0   \n",
              "4                                       0                                  0   \n",
              "\n",
              "   Get updates on DM Content  Lead Profile  City  Asymmetrique Activity Score  \\\n",
              "0                          0             6     6                         15.0   \n",
              "1                          0             6     6                         15.0   \n",
              "2                          0             5     7                         14.0   \n",
              "3                          0             6     7                         13.0   \n",
              "4                          0             6     7                         15.0   \n",
              "\n",
              "   Asymmetrique Profile Score  I agree to pay the amount through cheque  \\\n",
              "0                        15.0                                         0   \n",
              "1                        15.0                                         0   \n",
              "2                        20.0                                         0   \n",
              "3                        17.0                                         0   \n",
              "4                        18.0                                         0   \n",
              "\n",
              "   A free copy of Mastering The Interview  Last Notable Activity  \n",
              "0                                       0                     12  \n",
              "1                                       0                     11  \n",
              "2                                       1                     11  \n",
              "3                                       0                     12  \n",
              "4                                       0                     12  \n",
              "\n",
              "[5 rows x 28 columns]"
            ],
            "text/html": [
              "\n",
              "  <div id=\"df-01e91b61-dfec-4d1e-b9eb-28bb74103070\" class=\"colab-df-container\">\n",
              "    <div>\n",
              "<style scoped>\n",
              "    .dataframe tbody tr th:only-of-type {\n",
              "        vertical-align: middle;\n",
              "    }\n",
              "\n",
              "    .dataframe tbody tr th {\n",
              "        vertical-align: top;\n",
              "    }\n",
              "\n",
              "    .dataframe thead th {\n",
              "        text-align: right;\n",
              "    }\n",
              "</style>\n",
              "<table border=\"1\" class=\"dataframe\">\n",
              "  <thead>\n",
              "    <tr style=\"text-align: right;\">\n",
              "      <th></th>\n",
              "      <th>Lead Origin</th>\n",
              "      <th>Lead Source</th>\n",
              "      <th>Do Not Email</th>\n",
              "      <th>Do Not Call</th>\n",
              "      <th>TotalVisits</th>\n",
              "      <th>Total Time Spent on Website</th>\n",
              "      <th>Page Views Per Visit</th>\n",
              "      <th>Last Activity</th>\n",
              "      <th>Specialization</th>\n",
              "      <th>How did you hear about X Education</th>\n",
              "      <th>...</th>\n",
              "      <th>Receive More Updates About Our Courses</th>\n",
              "      <th>Update me on Supply Chain Content</th>\n",
              "      <th>Get updates on DM Content</th>\n",
              "      <th>Lead Profile</th>\n",
              "      <th>City</th>\n",
              "      <th>Asymmetrique Activity Score</th>\n",
              "      <th>Asymmetrique Profile Score</th>\n",
              "      <th>I agree to pay the amount through cheque</th>\n",
              "      <th>A free copy of Mastering The Interview</th>\n",
              "      <th>Last Notable Activity</th>\n",
              "    </tr>\n",
              "  </thead>\n",
              "  <tbody>\n",
              "    <tr>\n",
              "      <th>0</th>\n",
              "      <td>4</td>\n",
              "      <td>10</td>\n",
              "      <td>0</td>\n",
              "      <td>0</td>\n",
              "      <td>0.0</td>\n",
              "      <td>0</td>\n",
              "      <td>0.0</td>\n",
              "      <td>12</td>\n",
              "      <td>18</td>\n",
              "      <td>10</td>\n",
              "      <td>...</td>\n",
              "      <td>0</td>\n",
              "      <td>0</td>\n",
              "      <td>0</td>\n",
              "      <td>6</td>\n",
              "      <td>6</td>\n",
              "      <td>15.0</td>\n",
              "      <td>15.0</td>\n",
              "      <td>0</td>\n",
              "      <td>0</td>\n",
              "      <td>12</td>\n",
              "    </tr>\n",
              "    <tr>\n",
              "      <th>1</th>\n",
              "      <td>4</td>\n",
              "      <td>9</td>\n",
              "      <td>0</td>\n",
              "      <td>0</td>\n",
              "      <td>5.0</td>\n",
              "      <td>674</td>\n",
              "      <td>2.5</td>\n",
              "      <td>15</td>\n",
              "      <td>18</td>\n",
              "      <td>10</td>\n",
              "      <td>...</td>\n",
              "      <td>0</td>\n",
              "      <td>0</td>\n",
              "      <td>0</td>\n",
              "      <td>6</td>\n",
              "      <td>6</td>\n",
              "      <td>15.0</td>\n",
              "      <td>15.0</td>\n",
              "      <td>0</td>\n",
              "      <td>0</td>\n",
              "      <td>11</td>\n",
              "    </tr>\n",
              "    <tr>\n",
              "      <th>2</th>\n",
              "      <td>5</td>\n",
              "      <td>11</td>\n",
              "      <td>0</td>\n",
              "      <td>0</td>\n",
              "      <td>2.0</td>\n",
              "      <td>1532</td>\n",
              "      <td>2.0</td>\n",
              "      <td>15</td>\n",
              "      <td>13</td>\n",
              "      <td>10</td>\n",
              "      <td>...</td>\n",
              "      <td>0</td>\n",
              "      <td>0</td>\n",
              "      <td>0</td>\n",
              "      <td>5</td>\n",
              "      <td>7</td>\n",
              "      <td>14.0</td>\n",
              "      <td>20.0</td>\n",
              "      <td>0</td>\n",
              "      <td>1</td>\n",
              "      <td>11</td>\n",
              "    </tr>\n",
              "    <tr>\n",
              "      <th>3</th>\n",
              "      <td>5</td>\n",
              "      <td>11</td>\n",
              "      <td>0</td>\n",
              "      <td>0</td>\n",
              "      <td>1.0</td>\n",
              "      <td>305</td>\n",
              "      <td>1.0</td>\n",
              "      <td>7</td>\n",
              "      <td>9</td>\n",
              "      <td>8</td>\n",
              "      <td>...</td>\n",
              "      <td>0</td>\n",
              "      <td>0</td>\n",
              "      <td>0</td>\n",
              "      <td>6</td>\n",
              "      <td>7</td>\n",
              "      <td>13.0</td>\n",
              "      <td>17.0</td>\n",
              "      <td>0</td>\n",
              "      <td>0</td>\n",
              "      <td>12</td>\n",
              "    </tr>\n",
              "    <tr>\n",
              "      <th>4</th>\n",
              "      <td>5</td>\n",
              "      <td>12</td>\n",
              "      <td>0</td>\n",
              "      <td>0</td>\n",
              "      <td>2.0</td>\n",
              "      <td>1428</td>\n",
              "      <td>1.0</td>\n",
              "      <td>11</td>\n",
              "      <td>18</td>\n",
              "      <td>6</td>\n",
              "      <td>...</td>\n",
              "      <td>0</td>\n",
              "      <td>0</td>\n",
              "      <td>0</td>\n",
              "      <td>6</td>\n",
              "      <td>7</td>\n",
              "      <td>15.0</td>\n",
              "      <td>18.0</td>\n",
              "      <td>0</td>\n",
              "      <td>0</td>\n",
              "      <td>12</td>\n",
              "    </tr>\n",
              "  </tbody>\n",
              "</table>\n",
              "<p>5 rows × 28 columns</p>\n",
              "</div>\n",
              "    <div class=\"colab-df-buttons\">\n",
              "\n",
              "  <div class=\"colab-df-container\">\n",
              "    <button class=\"colab-df-convert\" onclick=\"convertToInteractive('df-01e91b61-dfec-4d1e-b9eb-28bb74103070')\"\n",
              "            title=\"Convert this dataframe to an interactive table.\"\n",
              "            style=\"display:none;\">\n",
              "\n",
              "  <svg xmlns=\"http://www.w3.org/2000/svg\" height=\"24px\" viewBox=\"0 -960 960 960\">\n",
              "    <path d=\"M120-120v-720h720v720H120Zm60-500h600v-160H180v160Zm220 220h160v-160H400v160Zm0 220h160v-160H400v160ZM180-400h160v-160H180v160Zm440 0h160v-160H620v160ZM180-180h160v-160H180v160Zm440 0h160v-160H620v160Z\"/>\n",
              "  </svg>\n",
              "    </button>\n",
              "\n",
              "  <style>\n",
              "    .colab-df-container {\n",
              "      display:flex;\n",
              "      gap: 12px;\n",
              "    }\n",
              "\n",
              "    .colab-df-convert {\n",
              "      background-color: #E8F0FE;\n",
              "      border: none;\n",
              "      border-radius: 50%;\n",
              "      cursor: pointer;\n",
              "      display: none;\n",
              "      fill: #1967D2;\n",
              "      height: 32px;\n",
              "      padding: 0 0 0 0;\n",
              "      width: 32px;\n",
              "    }\n",
              "\n",
              "    .colab-df-convert:hover {\n",
              "      background-color: #E2EBFA;\n",
              "      box-shadow: 0px 1px 2px rgba(60, 64, 67, 0.3), 0px 1px 3px 1px rgba(60, 64, 67, 0.15);\n",
              "      fill: #174EA6;\n",
              "    }\n",
              "\n",
              "    .colab-df-buttons div {\n",
              "      margin-bottom: 4px;\n",
              "    }\n",
              "\n",
              "    [theme=dark] .colab-df-convert {\n",
              "      background-color: #3B4455;\n",
              "      fill: #D2E3FC;\n",
              "    }\n",
              "\n",
              "    [theme=dark] .colab-df-convert:hover {\n",
              "      background-color: #434B5C;\n",
              "      box-shadow: 0px 1px 3px 1px rgba(0, 0, 0, 0.15);\n",
              "      filter: drop-shadow(0px 1px 2px rgba(0, 0, 0, 0.3));\n",
              "      fill: #FFFFFF;\n",
              "    }\n",
              "  </style>\n",
              "\n",
              "    <script>\n",
              "      const buttonEl =\n",
              "        document.querySelector('#df-01e91b61-dfec-4d1e-b9eb-28bb74103070 button.colab-df-convert');\n",
              "      buttonEl.style.display =\n",
              "        google.colab.kernel.accessAllowed ? 'block' : 'none';\n",
              "\n",
              "      async function convertToInteractive(key) {\n",
              "        const element = document.querySelector('#df-01e91b61-dfec-4d1e-b9eb-28bb74103070');\n",
              "        const dataTable =\n",
              "          await google.colab.kernel.invokeFunction('convertToInteractive',\n",
              "                                                    [key], {});\n",
              "        if (!dataTable) return;\n",
              "\n",
              "        const docLinkHtml = 'Like what you see? Visit the ' +\n",
              "          '<a target=\"_blank\" href=https://colab.research.google.com/notebooks/data_table.ipynb>data table notebook</a>'\n",
              "          + ' to learn more about interactive tables.';\n",
              "        element.innerHTML = '';\n",
              "        dataTable['output_type'] = 'display_data';\n",
              "        await google.colab.output.renderOutput(dataTable, element);\n",
              "        const docLink = document.createElement('div');\n",
              "        docLink.innerHTML = docLinkHtml;\n",
              "        element.appendChild(docLink);\n",
              "      }\n",
              "    </script>\n",
              "  </div>\n",
              "\n",
              "\n",
              "<div id=\"df-24bc83de-9a1d-4c72-8041-4d6f52530dfb\">\n",
              "  <button class=\"colab-df-quickchart\" onclick=\"quickchart('df-24bc83de-9a1d-4c72-8041-4d6f52530dfb')\"\n",
              "            title=\"Suggest charts.\"\n",
              "            style=\"display:none;\">\n",
              "\n",
              "<svg xmlns=\"http://www.w3.org/2000/svg\" height=\"24px\"viewBox=\"0 0 24 24\"\n",
              "     width=\"24px\">\n",
              "    <g>\n",
              "        <path d=\"M19 3H5c-1.1 0-2 .9-2 2v14c0 1.1.9 2 2 2h14c1.1 0 2-.9 2-2V5c0-1.1-.9-2-2-2zM9 17H7v-7h2v7zm4 0h-2V7h2v10zm4 0h-2v-4h2v4z\"/>\n",
              "    </g>\n",
              "</svg>\n",
              "  </button>\n",
              "\n",
              "<style>\n",
              "  .colab-df-quickchart {\n",
              "      --bg-color: #E8F0FE;\n",
              "      --fill-color: #1967D2;\n",
              "      --hover-bg-color: #E2EBFA;\n",
              "      --hover-fill-color: #174EA6;\n",
              "      --disabled-fill-color: #AAA;\n",
              "      --disabled-bg-color: #DDD;\n",
              "  }\n",
              "\n",
              "  [theme=dark] .colab-df-quickchart {\n",
              "      --bg-color: #3B4455;\n",
              "      --fill-color: #D2E3FC;\n",
              "      --hover-bg-color: #434B5C;\n",
              "      --hover-fill-color: #FFFFFF;\n",
              "      --disabled-bg-color: #3B4455;\n",
              "      --disabled-fill-color: #666;\n",
              "  }\n",
              "\n",
              "  .colab-df-quickchart {\n",
              "    background-color: var(--bg-color);\n",
              "    border: none;\n",
              "    border-radius: 50%;\n",
              "    cursor: pointer;\n",
              "    display: none;\n",
              "    fill: var(--fill-color);\n",
              "    height: 32px;\n",
              "    padding: 0;\n",
              "    width: 32px;\n",
              "  }\n",
              "\n",
              "  .colab-df-quickchart:hover {\n",
              "    background-color: var(--hover-bg-color);\n",
              "    box-shadow: 0 1px 2px rgba(60, 64, 67, 0.3), 0 1px 3px 1px rgba(60, 64, 67, 0.15);\n",
              "    fill: var(--button-hover-fill-color);\n",
              "  }\n",
              "\n",
              "  .colab-df-quickchart-complete:disabled,\n",
              "  .colab-df-quickchart-complete:disabled:hover {\n",
              "    background-color: var(--disabled-bg-color);\n",
              "    fill: var(--disabled-fill-color);\n",
              "    box-shadow: none;\n",
              "  }\n",
              "\n",
              "  .colab-df-spinner {\n",
              "    border: 2px solid var(--fill-color);\n",
              "    border-color: transparent;\n",
              "    border-bottom-color: var(--fill-color);\n",
              "    animation:\n",
              "      spin 1s steps(1) infinite;\n",
              "  }\n",
              "\n",
              "  @keyframes spin {\n",
              "    0% {\n",
              "      border-color: transparent;\n",
              "      border-bottom-color: var(--fill-color);\n",
              "      border-left-color: var(--fill-color);\n",
              "    }\n",
              "    20% {\n",
              "      border-color: transparent;\n",
              "      border-left-color: var(--fill-color);\n",
              "      border-top-color: var(--fill-color);\n",
              "    }\n",
              "    30% {\n",
              "      border-color: transparent;\n",
              "      border-left-color: var(--fill-color);\n",
              "      border-top-color: var(--fill-color);\n",
              "      border-right-color: var(--fill-color);\n",
              "    }\n",
              "    40% {\n",
              "      border-color: transparent;\n",
              "      border-right-color: var(--fill-color);\n",
              "      border-top-color: var(--fill-color);\n",
              "    }\n",
              "    60% {\n",
              "      border-color: transparent;\n",
              "      border-right-color: var(--fill-color);\n",
              "    }\n",
              "    80% {\n",
              "      border-color: transparent;\n",
              "      border-right-color: var(--fill-color);\n",
              "      border-bottom-color: var(--fill-color);\n",
              "    }\n",
              "    90% {\n",
              "      border-color: transparent;\n",
              "      border-bottom-color: var(--fill-color);\n",
              "    }\n",
              "  }\n",
              "</style>\n",
              "\n",
              "  <script>\n",
              "    async function quickchart(key) {\n",
              "      const quickchartButtonEl =\n",
              "        document.querySelector('#' + key + ' button');\n",
              "      quickchartButtonEl.disabled = true;  // To prevent multiple clicks.\n",
              "      quickchartButtonEl.classList.add('colab-df-spinner');\n",
              "      try {\n",
              "        const charts = await google.colab.kernel.invokeFunction(\n",
              "            'suggestCharts', [key], {});\n",
              "      } catch (error) {\n",
              "        console.error('Error during call to suggestCharts:', error);\n",
              "      }\n",
              "      quickchartButtonEl.classList.remove('colab-df-spinner');\n",
              "      quickchartButtonEl.classList.add('colab-df-quickchart-complete');\n",
              "    }\n",
              "    (() => {\n",
              "      let quickchartButtonEl =\n",
              "        document.querySelector('#df-24bc83de-9a1d-4c72-8041-4d6f52530dfb button');\n",
              "      quickchartButtonEl.style.display =\n",
              "        google.colab.kernel.accessAllowed ? 'block' : 'none';\n",
              "    })();\n",
              "  </script>\n",
              "</div>\n",
              "    </div>\n",
              "  </div>\n"
            ]
          },
          "metadata": {},
          "execution_count": 60
        }
      ]
    },
    {
      "cell_type": "code",
      "source": [
        "y"
      ],
      "metadata": {
        "colab": {
          "base_uri": "https://localhost:8080/"
        },
        "id": "5Cb2e_Hqrxam",
        "outputId": "a220eeb2-fe93-40c7-f7f8-0e01ea1e4d66"
      },
      "execution_count": null,
      "outputs": [
        {
          "output_type": "execute_result",
          "data": {
            "text/plain": [
              "0       0\n",
              "1       0\n",
              "2       1\n",
              "3       0\n",
              "4       1\n",
              "       ..\n",
              "9235    1\n",
              "9236    0\n",
              "9237    0\n",
              "9238    1\n",
              "9239    1\n",
              "Name: Converted, Length: 9240, dtype: int64"
            ]
          },
          "metadata": {},
          "execution_count": 61
        }
      ]
    },
    {
      "cell_type": "markdown",
      "source": [
        "**Logistic Regression**"
      ],
      "metadata": {
        "id": "bfEp3543HMJC"
      }
    },
    {
      "cell_type": "code",
      "source": [
        "model=LogisticRegression()\n",
        "X_train,X_eval,y_train,y_eval=train_test_split(X,y,test_size=0.2,random_state=0,stratify=y)\n",
        "model.fit(X_train,y_train)\n",
        "yhat=model.predict(X_eval)\n",
        "accuracy=accuracy_score(y_eval,yhat)\n",
        "print(\"Acuuracy_score:\",accuracy)\n",
        "confusion=confusion_matrix(yhat,y_eval)\n",
        "print(\"Confusion Matrix:\")\n",
        "print(confusion)\n",
        "precision=precision_score(y_eval,yhat)\n",
        "print(\"Precision_score:\",precision)\n",
        "recall=recall_score(y_eval,yhat)\n",
        "print(\"Recal_score:\",recall)"
      ],
      "metadata": {
        "colab": {
          "base_uri": "https://localhost:8080/"
        },
        "id": "w_P8PWjPrzh8",
        "outputId": "918fbd63-ceb1-4fda-d2fa-a5c6e33a00c8"
      },
      "execution_count": null,
      "outputs": [
        {
          "output_type": "stream",
          "name": "stdout",
          "text": [
            "Acuuracy_score: 0.79004329004329\n",
            "Confusion Matrix:\n",
            "[[996 248]\n",
            " [140 464]]\n",
            "Precision_score: 0.7682119205298014\n",
            "Recal_score: 0.651685393258427\n"
          ]
        }
      ]
    },
    {
      "cell_type": "markdown",
      "source": [
        "**Decision Tree Classifier**"
      ],
      "metadata": {
        "id": "Zcv1IA1CFd3L"
      }
    },
    {
      "cell_type": "code",
      "source": [
        "model_dtc=dtc()\n",
        "X_train,X_eval,y_train,y_eval=train_test_split(X,y,test_size=0.2,random_state=0,stratify=y)\n",
        "model_dtc.fit(X_train,y_train)\n",
        "yhat_dtc=model_dtc.predict(X_eval)\n",
        "confusion_dtc=confusion_matrix(y_eval,yhat_dtc)\n",
        "accuracy_dtc=accuracy_score(y_eval,yhat_dtc)\n",
        "print(\"Accuracy_Score:\",accuracy_dtc)\n",
        "print(\"Confusion_Matrix:\")\n",
        "print(confusion_dtc)\n",
        "precision_dtc=precision_score(y_eval,yhat_dtc)\n",
        "print(\"Precision_score:\",precision_dtc)\n",
        "recall_dtc=recall_score(y_eval,yhat_dtc)\n",
        "print(\"Recall_score:\",recall_dtc)\n"
      ],
      "metadata": {
        "colab": {
          "base_uri": "https://localhost:8080/"
        },
        "id": "cVzKVYqwFi4Z",
        "outputId": "7f9e449f-48e5-4013-84ce-bd1a40cc9337"
      },
      "execution_count": null,
      "outputs": [
        {
          "output_type": "stream",
          "name": "stdout",
          "text": [
            "Accuracy_Score: 0.8062770562770563\n",
            "Confusion_Matrix:\n",
            "[[961 175]\n",
            " [183 529]]\n",
            "Precision_score: 0.7514204545454546\n",
            "Recall_score: 0.7429775280898876\n"
          ]
        }
      ]
    },
    {
      "cell_type": "markdown",
      "source": [
        "**Random Forest Classifier**"
      ],
      "metadata": {
        "id": "Sdd-usGRMltR"
      }
    },
    {
      "cell_type": "code",
      "source": [
        "model_rfc=rfc()\n",
        "model_rfc.fit(X_train,y_train)\n",
        "yhat_rfc=model_rfc.predict(X_eval)\n",
        "accuracy_rfc=accuracy_score(y_eval,yhat_rfc)\n",
        "print(\"Accuracy_Score:\",accuracy_rfc)\n",
        "confusion_rfc=confusion_matrix(y_eval,yhat_rfc)\n",
        "print(\"Confusion_Matrix:\")\n",
        "print(confusion_rfc)\n",
        "precision_rfc=precision_score(y_eval,yhat_rfc)\n",
        "print(\"Precision_score:\",precision_rfc)\n",
        "recall_rfc=recall_score(y_eval,yhat_rfc)\n",
        "print(\"Recall_score:\",recall_rfc)\n",
        "\n",
        "\n"
      ],
      "metadata": {
        "colab": {
          "base_uri": "https://localhost:8080/"
        },
        "id": "EzZyhs23MsfM",
        "outputId": "cdfe42d9-54a5-401e-adf2-e42034e7798e"
      },
      "execution_count": null,
      "outputs": [
        {
          "output_type": "stream",
          "name": "stdout",
          "text": [
            "Accuracy_Score: 0.8598484848484849\n",
            "Confusion_Matrix:\n",
            "[[1029  107]\n",
            " [ 152  560]]\n",
            "Precision_score: 0.8395802098950524\n",
            "Recall_score: 0.7865168539325843\n"
          ]
        }
      ]
    },
    {
      "cell_type": "markdown",
      "source": [
        "**Suggestion/Conclusion**"
      ],
      "metadata": {
        "id": "Hbc3wL_jf6Fc"
      }
    },
    {
      "cell_type": "markdown",
      "source": [
        "**Which leads are most likely to convert into paying customers?**\n",
        "\n",
        "1.What is your current occupation\n",
        "2.Lead Source\n",
        "3.Total Time Spent on Website\n",
        "\n",
        "According to me the above three things have strong probability to change customer to paying customer for the edu tech platform\n",
        "\n",
        "\n",
        "\n"
      ],
      "metadata": {
        "id": "zrtA8glVidzl"
      }
    },
    {
      "cell_type": "markdown",
      "source": [
        "**What marketing and sales strategies can be tailored to specific lead segments?**\n",
        "\n",
        "**1.Targeting Unemployed customers:**\n",
        "High Conversion Potential: You correctly identify that unemployed individuals may have a higher motivation to enhance their skills and knowledge to improve their employment prospects. This group may be more likely to become paying customers for educational services.\n",
        "\n",
        "**2.Lead Source Prioritization:**\n",
        "  \n",
        "\n",
        "*   Google\n",
        "*   Direct Traffic\n",
        "*   Reference\n",
        "*   Olark Chat\n",
        "\n",
        "\n",
        "The company should mainly focused on the above points beacuse lot of people visiting above lead source and also the company also need to focus on instagram because Instagram is a popular platform among younger audiences. Create engaging visual content and campaigns targeting this demographic. Use Instagram advertising to reach a wider audience.\n",
        "\n",
        "\n",
        "\n",
        "\n",
        "\n",
        "\n",
        "\n",
        "\n",
        "\n",
        "\n",
        "\n",
        "\n",
        "\n"
      ],
      "metadata": {
        "id": "H3m4aF6wop_K"
      }
    },
    {
      "cell_type": "markdown",
      "source": [
        "**How can the lead management process be streamlined and made more effective?**\n",
        "\n",
        "**Customer Feedback:**\n",
        "\n",
        "Gather feedback from leads and customers to understand their needs and preferences. Use this feedback to improve lead management processes and offerings."
      ],
      "metadata": {
        "id": "lrlNIJotsbAr"
      }
    }
  ]
}